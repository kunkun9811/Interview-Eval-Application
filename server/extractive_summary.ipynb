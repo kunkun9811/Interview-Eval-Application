{
 "cells": [
  {
   "cell_type": "markdown",
   "metadata": {},
   "source": [
    "# Description:"
   ]
  },
  {
   "cell_type": "markdown",
   "metadata": {},
   "source": [
    "Imagine reading and realize in the end this article is not what you are looking for. Feels bad. Don't fret, we got you covered. Use our \"TLDR Bot\" to help you figure out if a article is what you needed for.\n",
    "\n",
    "Utilize TF-IDF to rank sentences based on importance and extract \"useful\" text."
   ]
  },
  {
   "cell_type": "markdown",
   "metadata": {},
   "source": [
    "# Import packages "
   ]
  },
  {
   "cell_type": "code",
   "execution_count": 78,
   "metadata": {
    "scrolled": true
   },
   "outputs": [
    {
     "name": "stderr",
     "output_type": "stream",
     "text": [
      "[nltk_data] Downloading package punkt to\n",
      "[nltk_data]     C:\\Users\\xiaokunmo\\AppData\\Roaming\\nltk_data...\n",
      "[nltk_data]   Package punkt is already up-to-date!\n",
      "[nltk_data] Downloading package stopwords to\n",
      "[nltk_data]     C:\\Users\\xiaokunmo\\AppData\\Roaming\\nltk_data...\n",
      "[nltk_data]   Package stopwords is already up-to-date!\n"
     ]
    },
    {
     "data": {
      "text/plain": [
       "True"
      ]
     },
     "execution_count": 78,
     "metadata": {},
     "output_type": "execute_result"
    }
   ],
   "source": [
    "import os\n",
    "import pandas as pd\n",
    "import numpy as np\n",
    "import re\n",
    "import nltk\n",
    "import math\n",
    "from nltk.tokenize import sent_tokenize\n",
    "from nltk.tokenize import word_tokenize\n",
    "from nltk.stem import PorterStemmer \n",
    "from nltk.corpus import stopwords\n",
    "from bs4 import BeautifulSoup\n",
    "\n",
    "nltk.download(\"punkt\")\n",
    "nltk.download(\"stopwords\")"
   ]
  },
  {
   "cell_type": "markdown",
   "metadata": {},
   "source": [
    "# Get text from file\n"
   ]
  },
  {
   "cell_type": "code",
   "execution_count": 79,
   "metadata": {},
   "outputs": [
    {
     "name": "stdout",
     "output_type": "stream",
     "text": [
      "['Those Who Are Resilient Stay In The Game Longer\\n“On the mountains of truth you can never climb in vain: either you will reach a point higher up today, or you will be training your powers so that you will be able to climb higher tomorrow.”\\u200a—\\u200aFriedrich Nietzsche\\nChallenges and setbacks are not meant to defeat you, but promote you.', 'However, I realise after many years of defeats, it can crush your spirit and it is easier to give up than risk further setbacks and disappointments.', 'Have you experienced this before?', 'To be honest, I don’t have the answers.', 'I can’t tell you what the right course of action is; only you will know.', 'However, it’s important not to be discouraged by failure when pursuing a goal or a dream, since failure itself means different things to different people.', 'To a person with a Fixed Mindset failure is a blow to their self-esteem, yet to a person with a Growth Mindset, it’s an opportunity to improve and find new ways to overcome their obstacles.', 'Same failure, yet different responses.', 'Who is right and who is wrong?', 'Neither.', 'Each person has a different mindset that decides their outcome.', 'Those who are resilient stay in the game longer and draw on their inner means to succeed.', 'I’ve coached many clients who gave up after many years toiling away at their respective goal or dream.', 'It was at that point their biggest breakthrough came.', 'Perhaps all those years of perseverance finally paid off.', 'It was the 19th Century’s minister Henry Ward Beecher who once said: “One’s best success comes after their greatest disappointments.” No one knows what the future holds, so your only guide is whether you can endure repeated defeats and disappointments and still pursue your dream.', 'Consider the advice from the American academic and psychologist Angela Duckworth who writes in Grit: The Power of Passion and Perseverance: “Many of us, it seems, quit what we start far too early and far too often.', 'Even more than the effort a gritty person puts in on a single day, what matters is that they wake up the next day, and the next, ready to get on that treadmill and keep going.”\\nI know one thing for certain: don’t settle for less than what you’re capable of, but strive for something bigger.', 'Some of you reading this might identify with this message because it resonates with you on a deeper level.', 'For others, at the end of their tether the message might be nothing more than a trivial pep talk.', 'What I wish to convey irrespective of where you are in your journey is: NEVER settle for less.', 'If you settle for less, you will receive less than you deserve and convince yourself you are justified to receive it.', '“Two people on a precipice over Yosemite Valley” by Nathan Shipps on Unsplash\\nDevelop A Powerful Vision Of What You Want\\n“Your problem is to bridge the gap which exists between where you are now and the goal you intend to reach.”\\u200a—\\u200aEarl Nightingale\\nI recall a passage my father often used growing up in 1990s: “Don’t tell me your problems unless you’ve spent weeks trying to solve them yourself.” That advice has echoed in my mind for decades and became my motivator.', 'Don’t leave it to other people or outside circumstances to motivate you because you will be let down every time.', 'It must come from within you.', 'Gnaw away at your problems until you solve them or find a solution.', 'Problems are not stop signs, they are advising you that more work is required to overcome them.', 'Most times, problems help you gain a skill or develop the resources to succeed later.', 'So embrace your challenges and develop the grit to push past them instead of retreat in resignation.', 'Where are you settling in your life right now?', 'Could you be you playing for bigger stakes than you are?', 'Are you willing to play bigger even if it means repeated failures and setbacks?', 'You should ask yourself these questions to decide whether you’re willing to put yourself on the line or settle for less.', 'And that’s fine if you’re content to receive less, as long as you’re not regretful later.', 'If you have not achieved the success you deserve and are considering giving up, will you regret it in a few years or decades from now?', 'Only you can answer that, but you should carve out time to discover your motivation for pursuing your goals.', 'It’s a fact, if you don’t know what you want you’ll get what life hands you and it may not be in your best interest, affirms author Larry Weidel: “Winners know that if you don’t figure out what you want, you’ll get whatever life hands you.” The key is to develop a powerful vision of what you want and hold that image in your mind.', 'Nurture it daily and give it life by taking purposeful action towards it.', 'Vision + desire + dedication + patience + daily action leads to astonishing success.', 'Are you willing to commit to this way of life or jump ship at the first sign of failure?', 'I’m amused when I read questions written by millennials on Quora who ask how they can become rich and famous or the next Elon Musk.', 'Success is a fickle and long game with highs and lows.', 'Similarly, there are no assurances even if you’re an overnight sensation, to sustain it for long, particularly if you don’t have the mental and emotional means to endure it.', 'This means you must rely on the one true constant in your favour: your personal development.', 'The more you grow, the more you gain in terms of financial resources, status, success\\u200a—\\u200asimple.', 'If you leave it to outside conditions to dictate your circumstances, you are rolling the dice on your future.', 'So become intentional on what you want out of life.', 'Commit to it.', 'Nurture your dreams.', 'Focus on your development and if you want to give up, know what’s involved before you take the plunge.', 'Because I assure you, someone out there right now is working harder than you, reading more books, sleeping less and sacrificing all they have to realise their dreams and it may contest with yours.', 'Don’t leave your dreams to chance.']\n"
     ]
    }
   ],
   "source": [
    "with open(\"testarticle2.txt\", \"r\", encoding=\"utf-8\") as file:\n",
    "    text = file.read()\n",
    "\n",
    "text = sent_tokenize(text)\n",
    "print(text)\n",
    "total_documents = len(text)"
   ]
  },
  {
   "cell_type": "markdown",
   "metadata": {},
   "source": [
    "## Calculate Frequency Matrix for words Per Sentence(or document)"
   ]
  },
  {
   "cell_type": "code",
   "execution_count": 80,
   "metadata": {},
   "outputs": [
    {
     "name": "stdout",
     "output_type": "stream",
     "text": [
      "{'Those Who Are R': {'resili': 1, 'stay': 1, 'game': 1, 'longer': 1, '“': 1, 'mountain': 1, 'truth': 1, 'never': 1, 'climb': 2, 'vain': 1, ':': 1, 'either': 1, 'reach': 1, 'point': 1, 'higher': 2, 'today': 1, ',': 2, 'train': 1, 'power': 1, 'abl': 1, 'tomorrow.': 1, '”': 1, '—': 1, 'friedrich': 1, 'nietzsch': 1, 'challeng': 1, 'setback': 1, 'meant': 1, 'defeat': 1, 'promot': 1, '.': 1}, 'However, I real': {'howev': 1, ',': 2, 'realis': 1, 'mani': 1, 'year': 1, 'defeat': 1, 'crush': 1, 'spirit': 1, 'easier': 1, 'give': 1, 'risk': 1, 'setback': 1, 'disappoint': 1, '.': 1}, 'Have you experi': {'experienc': 1, 'thi': 1, 'befor': 1, '?': 1}, 'To be honest, I': {'honest': 1, ',': 1, '’': 1, 'answer': 1, '.': 1}, 'I can’t tell yo': {'’': 1, 'tell': 1, 'right': 1, 'cours': 1, 'action': 1, ';': 1, 'onli': 1, 'know': 1, '.': 1}, 'However, it’s i': {'howev': 1, ',': 2, '’': 1, 'import': 1, 'discourag': 1, 'failur': 2, 'pursu': 1, 'goal': 1, 'dream': 1, 'sinc': 1, 'mean': 1, 'differ': 2, 'thing': 1, 'peopl': 1, '.': 1}, 'To a person wit': {'person': 2, 'fix': 1, 'mindset': 2, 'failur': 1, 'blow': 1, 'self-esteem': 1, ',': 2, 'yet': 1, 'growth': 1, '’': 1, 'opportun': 1, 'improv': 1, 'find': 1, 'new': 1, 'way': 1, 'overcom': 1, 'obstacl': 1, '.': 1}, 'Same failure, y': {'failur': 1, ',': 1, 'yet': 1, 'differ': 1, 'respons': 1, '.': 1}, 'Who is right an': {'right': 1, 'wrong': 1, '?': 1}, 'Neither.': {'neither': 1, '.': 1}, 'Each person has': {'person': 1, 'ha': 1, 'differ': 1, 'mindset': 1, 'decid': 1, 'outcom': 1, '.': 1}, 'Those who are r': {'resili': 1, 'stay': 1, 'game': 1, 'longer': 1, 'draw': 1, 'inner': 1, 'mean': 1, 'succeed': 1, '.': 1}, 'I’ve coached ma': {'’': 1, 'coach': 1, 'mani': 2, 'client': 1, 'gave': 1, 'year': 1, 'toil': 1, 'away': 1, 'respect': 1, 'goal': 1, 'dream': 1, '.': 1}, 'It was at that ': {'wa': 1, 'point': 1, 'biggest': 1, 'breakthrough': 1, 'came': 1, '.': 1}, 'Perhaps all tho': {'perhap': 1, 'year': 1, 'persever': 1, 'final': 1, 'paid': 1, '.': 1}, 'It was the 19th': {'wa': 1, '19th': 1, 'centuri': 1, '’': 2, 'minist': 1, 'henri': 1, 'ward': 1, 'beecher': 1, 'onc': 1, 'said': 1, ':': 1, '“': 1, 'one': 2, 'best': 1, 'success': 1, 'come': 1, 'greatest': 1, 'disappointments.': 1, '”': 1, 'know': 1, 'futur': 1, 'hold': 1, ',': 1, 'onli': 1, 'guid': 1, 'whether': 1, 'endur': 1, 'repeat': 1, 'defeat': 1, 'disappoint': 1, 'still': 1, 'pursu': 1, 'dream': 1, '.': 1}, 'Consider the ad': {'consid': 1, 'advic': 1, 'american': 1, 'academ': 1, 'psychologist': 1, 'angela': 1, 'duckworth': 1, 'write': 1, 'grit': 1, ':': 2, 'power': 1, 'passion': 1, 'persever': 1, '“': 1, 'mani': 1, 'us': 1, ',': 2, 'seem': 1, 'quit': 1, 'start': 1, 'far': 2, 'earli': 1, 'often': 1, '.': 1}, 'Even more than ': {'even': 1, 'effort': 1, 'gritti': 1, 'person': 1, 'put': 1, 'singl': 1, 'day': 2, ',': 4, 'matter': 1, 'wake': 1, 'next': 2, 'readi': 1, 'get': 1, 'treadmil': 1, 'keep': 1, 'going.': 1, '”': 1, 'know': 1, 'one': 1, 'thing': 1, 'certain': 1, ':': 1, '’': 2, 'settl': 1, 'less': 1, 'capabl': 1, 'strive': 1, 'someth': 1, 'bigger': 1, '.': 1}, 'Some of you rea': {'read': 1, 'thi': 2, 'might': 1, 'identifi': 1, 'messag': 1, 'becaus': 1, 'reson': 1, 'deeper': 1, 'level': 1, '.': 1}, 'For others, at ': {',': 1, 'end': 1, 'tether': 1, 'messag': 1, 'might': 1, 'noth': 1, 'trivial': 1, 'pep': 1, 'talk': 1, '.': 1}, 'What I wish to ': {'wish': 1, 'convey': 1, 'irrespect': 1, 'journey': 1, ':': 1, 'never': 1, 'settl': 1, 'less': 1, '.': 1}, 'If you settle f': {'settl': 1, 'less': 2, ',': 1, 'receiv': 2, 'deserv': 1, 'convinc': 1, 'justifi': 1, '.': 1}, '“Two people on ': {'“': 3, 'two': 1, 'peopl': 1, 'precipic': 1, 'yosemit': 1, 'valley': 1, '”': 3, 'nathan': 1, 'shipp': 1, 'unsplash': 1, 'develop': 1, 'power': 1, 'vision': 1, 'want': 1, 'problem': 2, 'bridg': 1, 'gap': 1, 'exist': 1, 'goal': 1, 'intend': 1, 'reach.': 1, '—': 1, 'earl': 1, 'nightingal': 1, 'recal': 1, 'passag': 1, 'father': 1, 'often': 1, 'use': 1, 'grow': 1, '1990': 1, ':': 1, '’': 2, 'tell': 1, 'unless': 1, 'spent': 1, 'week': 1, 'tri': 1, 'solv': 1, 'yourself.': 1, 'advic': 1, 'ha': 1, 'echo': 1, 'mind': 1, 'decad': 1, 'becam': 1, 'motiv': 1, '.': 1}, 'Don’t leave it ': {'’': 1, 'leav': 1, 'peopl': 1, 'outsid': 1, 'circumst': 1, 'motiv': 1, 'becaus': 1, 'let': 1, 'everi': 1, 'time': 1, '.': 1}, 'It must come fr': {'must': 1, 'come': 1, 'within': 1, '.': 1}, 'Gnaw away at yo': {'gnaw': 1, 'away': 1, 'problem': 1, 'solv': 1, 'find': 1, 'solut': 1, '.': 1}, 'Problems are no': {'problem': 1, 'stop': 1, 'sign': 1, ',': 1, 'advis': 1, 'work': 1, 'requir': 1, 'overcom': 1, '.': 1}, 'Most times, pro': {'time': 1, ',': 1, 'problem': 1, 'help': 1, 'gain': 1, 'skill': 1, 'develop': 1, 'resourc': 1, 'succeed': 1, 'later': 1, '.': 1}, 'So embrace your': {'embrac': 1, 'challeng': 1, 'develop': 1, 'grit': 1, 'push': 1, 'past': 1, 'instead': 1, 'retreat': 1, 'resign': 1, '.': 1}, 'Where are you s': {'settl': 1, 'life': 1, 'right': 1, '?': 1}, 'Could you be yo': {'could': 1, 'play': 1, 'bigger': 1, 'stake': 1, '?': 1}, 'Are you willing': {'commit': 1, 'thi': 1, 'way': 1, 'life': 1, 'jump': 1, 'ship': 1, 'first': 1, 'sign': 1, 'failur': 1, '?': 1}, 'You should ask ': {'ask': 1, 'question': 1, 'decid': 1, 'whether': 1, '’': 1, 'put': 1, 'line': 1, 'settl': 1, 'less': 1, '.': 1}, 'And that’s fine': {'’': 3, 'fine': 1, 'content': 1, 'receiv': 1, 'less': 1, ',': 1, 'long': 1, 'regret': 1, 'later': 1, '.': 1}, 'If you have not': {'achiev': 1, 'success': 1, 'deserv': 1, 'consid': 1, 'give': 1, ',': 1, 'regret': 1, 'year': 1, 'decad': 1, '?': 1}, 'Only you can an': {'onli': 1, 'answer': 1, ',': 1, 'carv': 1, 'time': 1, 'discov': 1, 'motiv': 1, 'pursu': 1, 'goal': 1, '.': 1}, 'It’s a fact, if': {'’': 5, 'fact': 1, ',': 3, 'know': 2, 'want': 3, 'get': 2, 'life': 2, 'hand': 2, 'may': 1, 'best': 1, 'interest': 1, 'affirm': 1, 'author': 1, 'larri': 1, 'weidel': 1, ':': 1, '“': 1, 'winner': 1, 'figur': 1, 'whatev': 1, 'you.': 1, '”': 1, 'key': 1, 'develop': 1, 'power': 1, 'vision': 1, 'hold': 1, 'imag': 1, 'mind': 1, '.': 1}, 'Nurture it dail': {'nurtur': 1, 'daili': 1, 'give': 1, 'life': 1, 'take': 1, 'purpos': 1, 'action': 1, 'toward': 1, '.': 1}, 'Vision + desire': {'vision': 1, '+': 4, 'desir': 1, 'dedic': 1, 'patienc': 1, 'daili': 1, 'action': 1, 'lead': 1, 'astonish': 1, 'success': 1, '.': 1}, 'I’m amused when': {'’': 1, 'amus': 1, 'read': 1, 'question': 1, 'written': 1, 'millenni': 1, 'quora': 1, 'ask': 1, 'becom': 1, 'rich': 1, 'famou': 1, 'next': 1, 'elon': 1, 'musk': 1, '.': 1}, 'Success is a fi': {'success': 1, 'fickl': 1, 'long': 1, 'game': 1, 'high': 1, 'low': 1, '.': 1}, 'Similarly, ther': {'similarli': 1, ',': 3, 'assur': 1, 'even': 1, '’': 2, 'overnight': 1, 'sensat': 1, 'sustain': 1, 'long': 1, 'particularli': 1, 'mental': 1, 'emot': 1, 'mean': 1, 'endur': 1, '.': 1}, 'This means you ': {'thi': 1, 'mean': 1, 'must': 1, 'reli': 1, 'one': 1, 'true': 1, 'constant': 1, 'favour': 1, ':': 1, 'person': 1, 'develop': 1, '.': 1}, 'The more you gr': {'grow': 1, ',': 3, 'gain': 1, 'term': 1, 'financi': 1, 'resourc': 1, 'statu': 1, 'success': 1, '—': 1, 'simpl': 1, '.': 1}, 'If you leave it': {'leav': 1, 'outsid': 1, 'condit': 1, 'dictat': 1, 'circumst': 1, ',': 1, 'roll': 1, 'dice': 1, 'futur': 1, '.': 1}, 'So become inten': {'becom': 1, 'intent': 1, 'want': 1, 'life': 1, '.': 1}, 'Commit to it.': {'commit': 1, '.': 1}, 'Nurture your dr': {'nurtur': 1, 'dream': 1, '.': 1}, 'Focus on your d': {'focu': 1, 'develop': 1, 'want': 1, 'give': 1, ',': 1, 'know': 1, '’': 1, 'involv': 1, 'befor': 1, 'take': 1, 'plung': 1, '.': 1}, 'Because I assur': {'becaus': 1, 'assur': 1, ',': 3, 'someon': 1, 'right': 1, 'work': 1, 'harder': 1, 'read': 1, 'book': 1, 'sleep': 1, 'less': 1, 'sacrif': 1, 'realis': 1, 'dream': 1, 'may': 1, 'contest': 1, '.': 1}, 'Don’t leave you': {'’': 1, 'leav': 1, 'dream': 1, 'chanc': 1, '.': 1}}\n"
     ]
    }
   ],
   "source": [
    "def create_frequency_matrix(sentences):\n",
    "    frequency_matrix = {}\n",
    "    stopWords = set(stopwords.words(\"english\"))\n",
    "    ps = PorterStemmer()\n",
    "\n",
    "    for sent in sentences:\n",
    "        freq_table = {}\n",
    "        words = word_tokenize(sent)\n",
    "        for word in words:\n",
    "            word = word.lower()\n",
    "            word = ps.stem(word)\n",
    "            if word in stopWords:\n",
    "                continue\n",
    "\n",
    "            if word in freq_table:\n",
    "                freq_table[word] += 1\n",
    "            else:\n",
    "                freq_table[word] = 1\n",
    "\n",
    "        frequency_matrix[sent[:15]] = freq_table\n",
    "\n",
    "    return frequency_matrix\n",
    "\n",
    "freq_matrix = create_frequency_matrix(text)\n",
    "print(freq_matrix)"
   ]
  },
  {
   "cell_type": "markdown",
   "metadata": {},
   "source": [
    "# Create TF Matrix"
   ]
  },
  {
   "cell_type": "code",
   "execution_count": 81,
   "metadata": {},
   "outputs": [
    {
     "name": "stdout",
     "output_type": "stream",
     "text": [
      "{'Those Who Are R': {'resili': 0.029411764705882353, 'stay': 0.029411764705882353, 'game': 0.029411764705882353, 'longer': 0.029411764705882353, '“': 0.029411764705882353, 'mountain': 0.029411764705882353, 'truth': 0.029411764705882353, 'never': 0.029411764705882353, 'climb': 0.058823529411764705, 'vain': 0.029411764705882353, ':': 0.029411764705882353, 'either': 0.029411764705882353, 'reach': 0.029411764705882353, 'point': 0.029411764705882353, 'higher': 0.058823529411764705, 'today': 0.029411764705882353, ',': 0.058823529411764705, 'train': 0.029411764705882353, 'power': 0.029411764705882353, 'abl': 0.029411764705882353, 'tomorrow.': 0.029411764705882353, '”': 0.029411764705882353, '—': 0.029411764705882353, 'friedrich': 0.029411764705882353, 'nietzsch': 0.029411764705882353, 'challeng': 0.029411764705882353, 'setback': 0.029411764705882353, 'meant': 0.029411764705882353, 'defeat': 0.029411764705882353, 'promot': 0.029411764705882353, '.': 0.029411764705882353}, 'However, I real': {'howev': 0.06666666666666667, ',': 0.13333333333333333, 'realis': 0.06666666666666667, 'mani': 0.06666666666666667, 'year': 0.06666666666666667, 'defeat': 0.06666666666666667, 'crush': 0.06666666666666667, 'spirit': 0.06666666666666667, 'easier': 0.06666666666666667, 'give': 0.06666666666666667, 'risk': 0.06666666666666667, 'setback': 0.06666666666666667, 'disappoint': 0.06666666666666667, '.': 0.06666666666666667}, 'Have you experi': {'experienc': 0.25, 'thi': 0.25, 'befor': 0.25, '?': 0.25}, 'To be honest, I': {'honest': 0.2, ',': 0.2, '’': 0.2, 'answer': 0.2, '.': 0.2}, 'I can’t tell yo': {'’': 0.1111111111111111, 'tell': 0.1111111111111111, 'right': 0.1111111111111111, 'cours': 0.1111111111111111, 'action': 0.1111111111111111, ';': 0.1111111111111111, 'onli': 0.1111111111111111, 'know': 0.1111111111111111, '.': 0.1111111111111111}, 'However, it’s i': {'howev': 0.05555555555555555, ',': 0.1111111111111111, '’': 0.05555555555555555, 'import': 0.05555555555555555, 'discourag': 0.05555555555555555, 'failur': 0.1111111111111111, 'pursu': 0.05555555555555555, 'goal': 0.05555555555555555, 'dream': 0.05555555555555555, 'sinc': 0.05555555555555555, 'mean': 0.05555555555555555, 'differ': 0.1111111111111111, 'thing': 0.05555555555555555, 'peopl': 0.05555555555555555, '.': 0.05555555555555555}, 'To a person wit': {'person': 0.09523809523809523, 'fix': 0.047619047619047616, 'mindset': 0.09523809523809523, 'failur': 0.047619047619047616, 'blow': 0.047619047619047616, 'self-esteem': 0.047619047619047616, ',': 0.09523809523809523, 'yet': 0.047619047619047616, 'growth': 0.047619047619047616, '’': 0.047619047619047616, 'opportun': 0.047619047619047616, 'improv': 0.047619047619047616, 'find': 0.047619047619047616, 'new': 0.047619047619047616, 'way': 0.047619047619047616, 'overcom': 0.047619047619047616, 'obstacl': 0.047619047619047616, '.': 0.047619047619047616}, 'Same failure, y': {'failur': 0.16666666666666666, ',': 0.16666666666666666, 'yet': 0.16666666666666666, 'differ': 0.16666666666666666, 'respons': 0.16666666666666666, '.': 0.16666666666666666}, 'Who is right an': {'right': 0.3333333333333333, 'wrong': 0.3333333333333333, '?': 0.3333333333333333}, 'Neither.': {'neither': 0.5, '.': 0.5}, 'Each person has': {'person': 0.14285714285714285, 'ha': 0.14285714285714285, 'differ': 0.14285714285714285, 'mindset': 0.14285714285714285, 'decid': 0.14285714285714285, 'outcom': 0.14285714285714285, '.': 0.14285714285714285}, 'Those who are r': {'resili': 0.1111111111111111, 'stay': 0.1111111111111111, 'game': 0.1111111111111111, 'longer': 0.1111111111111111, 'draw': 0.1111111111111111, 'inner': 0.1111111111111111, 'mean': 0.1111111111111111, 'succeed': 0.1111111111111111, '.': 0.1111111111111111}, 'I’ve coached ma': {'’': 0.07692307692307693, 'coach': 0.07692307692307693, 'mani': 0.15384615384615385, 'client': 0.07692307692307693, 'gave': 0.07692307692307693, 'year': 0.07692307692307693, 'toil': 0.07692307692307693, 'away': 0.07692307692307693, 'respect': 0.07692307692307693, 'goal': 0.07692307692307693, 'dream': 0.07692307692307693, '.': 0.07692307692307693}, 'It was at that ': {'wa': 0.16666666666666666, 'point': 0.16666666666666666, 'biggest': 0.16666666666666666, 'breakthrough': 0.16666666666666666, 'came': 0.16666666666666666, '.': 0.16666666666666666}, 'Perhaps all tho': {'perhap': 0.16666666666666666, 'year': 0.16666666666666666, 'persever': 0.16666666666666666, 'final': 0.16666666666666666, 'paid': 0.16666666666666666, '.': 0.16666666666666666}, 'It was the 19th': {'wa': 0.027777777777777776, '19th': 0.027777777777777776, 'centuri': 0.027777777777777776, '’': 0.05555555555555555, 'minist': 0.027777777777777776, 'henri': 0.027777777777777776, 'ward': 0.027777777777777776, 'beecher': 0.027777777777777776, 'onc': 0.027777777777777776, 'said': 0.027777777777777776, ':': 0.027777777777777776, '“': 0.027777777777777776, 'one': 0.05555555555555555, 'best': 0.027777777777777776, 'success': 0.027777777777777776, 'come': 0.027777777777777776, 'greatest': 0.027777777777777776, 'disappointments.': 0.027777777777777776, '”': 0.027777777777777776, 'know': 0.027777777777777776, 'futur': 0.027777777777777776, 'hold': 0.027777777777777776, ',': 0.027777777777777776, 'onli': 0.027777777777777776, 'guid': 0.027777777777777776, 'whether': 0.027777777777777776, 'endur': 0.027777777777777776, 'repeat': 0.027777777777777776, 'defeat': 0.027777777777777776, 'disappoint': 0.027777777777777776, 'still': 0.027777777777777776, 'pursu': 0.027777777777777776, 'dream': 0.027777777777777776, '.': 0.027777777777777776}, 'Consider the ad': {'consid': 0.037037037037037035, 'advic': 0.037037037037037035, 'american': 0.037037037037037035, 'academ': 0.037037037037037035, 'psychologist': 0.037037037037037035, 'angela': 0.037037037037037035, 'duckworth': 0.037037037037037035, 'write': 0.037037037037037035, 'grit': 0.037037037037037035, ':': 0.07407407407407407, 'power': 0.037037037037037035, 'passion': 0.037037037037037035, 'persever': 0.037037037037037035, '“': 0.037037037037037035, 'mani': 0.037037037037037035, 'us': 0.037037037037037035, ',': 0.07407407407407407, 'seem': 0.037037037037037035, 'quit': 0.037037037037037035, 'start': 0.037037037037037035, 'far': 0.07407407407407407, 'earli': 0.037037037037037035, 'often': 0.037037037037037035, '.': 0.037037037037037035}, 'Even more than ': {'even': 0.027777777777777776, 'effort': 0.027777777777777776, 'gritti': 0.027777777777777776, 'person': 0.027777777777777776, 'put': 0.027777777777777776, 'singl': 0.027777777777777776, 'day': 0.05555555555555555, ',': 0.1111111111111111, 'matter': 0.027777777777777776, 'wake': 0.027777777777777776, 'next': 0.05555555555555555, 'readi': 0.027777777777777776, 'get': 0.027777777777777776, 'treadmil': 0.027777777777777776, 'keep': 0.027777777777777776, 'going.': 0.027777777777777776, '”': 0.027777777777777776, 'know': 0.027777777777777776, 'one': 0.027777777777777776, 'thing': 0.027777777777777776, 'certain': 0.027777777777777776, ':': 0.027777777777777776, '’': 0.05555555555555555, 'settl': 0.027777777777777776, 'less': 0.027777777777777776, 'capabl': 0.027777777777777776, 'strive': 0.027777777777777776, 'someth': 0.027777777777777776, 'bigger': 0.027777777777777776, '.': 0.027777777777777776}, 'Some of you rea': {'read': 0.09090909090909091, 'thi': 0.18181818181818182, 'might': 0.09090909090909091, 'identifi': 0.09090909090909091, 'messag': 0.09090909090909091, 'becaus': 0.09090909090909091, 'reson': 0.09090909090909091, 'deeper': 0.09090909090909091, 'level': 0.09090909090909091, '.': 0.09090909090909091}, 'For others, at ': {',': 0.1, 'end': 0.1, 'tether': 0.1, 'messag': 0.1, 'might': 0.1, 'noth': 0.1, 'trivial': 0.1, 'pep': 0.1, 'talk': 0.1, '.': 0.1}, 'What I wish to ': {'wish': 0.1111111111111111, 'convey': 0.1111111111111111, 'irrespect': 0.1111111111111111, 'journey': 0.1111111111111111, ':': 0.1111111111111111, 'never': 0.1111111111111111, 'settl': 0.1111111111111111, 'less': 0.1111111111111111, '.': 0.1111111111111111}, 'If you settle f': {'settl': 0.1, 'less': 0.2, ',': 0.1, 'receiv': 0.2, 'deserv': 0.1, 'convinc': 0.1, 'justifi': 0.1, '.': 0.1}, '“Two people on ': {'“': 0.05555555555555555, 'two': 0.018518518518518517, 'peopl': 0.018518518518518517, 'precipic': 0.018518518518518517, 'yosemit': 0.018518518518518517, 'valley': 0.018518518518518517, '”': 0.05555555555555555, 'nathan': 0.018518518518518517, 'shipp': 0.018518518518518517, 'unsplash': 0.018518518518518517, 'develop': 0.018518518518518517, 'power': 0.018518518518518517, 'vision': 0.018518518518518517, 'want': 0.018518518518518517, 'problem': 0.037037037037037035, 'bridg': 0.018518518518518517, 'gap': 0.018518518518518517, 'exist': 0.018518518518518517, 'goal': 0.018518518518518517, 'intend': 0.018518518518518517, 'reach.': 0.018518518518518517, '—': 0.018518518518518517, 'earl': 0.018518518518518517, 'nightingal': 0.018518518518518517, 'recal': 0.018518518518518517, 'passag': 0.018518518518518517, 'father': 0.018518518518518517, 'often': 0.018518518518518517, 'use': 0.018518518518518517, 'grow': 0.018518518518518517, '1990': 0.018518518518518517, ':': 0.018518518518518517, '’': 0.037037037037037035, 'tell': 0.018518518518518517, 'unless': 0.018518518518518517, 'spent': 0.018518518518518517, 'week': 0.018518518518518517, 'tri': 0.018518518518518517, 'solv': 0.018518518518518517, 'yourself.': 0.018518518518518517, 'advic': 0.018518518518518517, 'ha': 0.018518518518518517, 'echo': 0.018518518518518517, 'mind': 0.018518518518518517, 'decad': 0.018518518518518517, 'becam': 0.018518518518518517, 'motiv': 0.018518518518518517, '.': 0.018518518518518517}, 'Don’t leave it ': {'’': 0.09090909090909091, 'leav': 0.09090909090909091, 'peopl': 0.09090909090909091, 'outsid': 0.09090909090909091, 'circumst': 0.09090909090909091, 'motiv': 0.09090909090909091, 'becaus': 0.09090909090909091, 'let': 0.09090909090909091, 'everi': 0.09090909090909091, 'time': 0.09090909090909091, '.': 0.09090909090909091}, 'It must come fr': {'must': 0.25, 'come': 0.25, 'within': 0.25, '.': 0.25}, 'Gnaw away at yo': {'gnaw': 0.14285714285714285, 'away': 0.14285714285714285, 'problem': 0.14285714285714285, 'solv': 0.14285714285714285, 'find': 0.14285714285714285, 'solut': 0.14285714285714285, '.': 0.14285714285714285}, 'Problems are no': {'problem': 0.1111111111111111, 'stop': 0.1111111111111111, 'sign': 0.1111111111111111, ',': 0.1111111111111111, 'advis': 0.1111111111111111, 'work': 0.1111111111111111, 'requir': 0.1111111111111111, 'overcom': 0.1111111111111111, '.': 0.1111111111111111}, 'Most times, pro': {'time': 0.09090909090909091, ',': 0.09090909090909091, 'problem': 0.09090909090909091, 'help': 0.09090909090909091, 'gain': 0.09090909090909091, 'skill': 0.09090909090909091, 'develop': 0.09090909090909091, 'resourc': 0.09090909090909091, 'succeed': 0.09090909090909091, 'later': 0.09090909090909091, '.': 0.09090909090909091}, 'So embrace your': {'embrac': 0.1, 'challeng': 0.1, 'develop': 0.1, 'grit': 0.1, 'push': 0.1, 'past': 0.1, 'instead': 0.1, 'retreat': 0.1, 'resign': 0.1, '.': 0.1}, 'Where are you s': {'settl': 0.25, 'life': 0.25, 'right': 0.25, '?': 0.25}, 'Could you be yo': {'could': 0.2, 'play': 0.2, 'bigger': 0.2, 'stake': 0.2, '?': 0.2}, 'Are you willing': {'commit': 0.1, 'thi': 0.1, 'way': 0.1, 'life': 0.1, 'jump': 0.1, 'ship': 0.1, 'first': 0.1, 'sign': 0.1, 'failur': 0.1, '?': 0.1}, 'You should ask ': {'ask': 0.1, 'question': 0.1, 'decid': 0.1, 'whether': 0.1, '’': 0.1, 'put': 0.1, 'line': 0.1, 'settl': 0.1, 'less': 0.1, '.': 0.1}, 'And that’s fine': {'’': 0.25, 'fine': 0.08333333333333333, 'content': 0.08333333333333333, 'receiv': 0.08333333333333333, 'less': 0.08333333333333333, ',': 0.08333333333333333, 'long': 0.08333333333333333, 'regret': 0.08333333333333333, 'later': 0.08333333333333333, '.': 0.08333333333333333}, 'If you have not': {'achiev': 0.1, 'success': 0.1, 'deserv': 0.1, 'consid': 0.1, 'give': 0.1, ',': 0.1, 'regret': 0.1, 'year': 0.1, 'decad': 0.1, '?': 0.1}, 'Only you can an': {'onli': 0.1, 'answer': 0.1, ',': 0.1, 'carv': 0.1, 'time': 0.1, 'discov': 0.1, 'motiv': 0.1, 'pursu': 0.1, 'goal': 0.1, '.': 0.1}, 'It’s a fact, if': {'’': 0.11904761904761904, 'fact': 0.023809523809523808, ',': 0.07142857142857142, 'know': 0.047619047619047616, 'want': 0.07142857142857142, 'get': 0.047619047619047616, 'life': 0.047619047619047616, 'hand': 0.047619047619047616, 'may': 0.023809523809523808, 'best': 0.023809523809523808, 'interest': 0.023809523809523808, 'affirm': 0.023809523809523808, 'author': 0.023809523809523808, 'larri': 0.023809523809523808, 'weidel': 0.023809523809523808, ':': 0.023809523809523808, '“': 0.023809523809523808, 'winner': 0.023809523809523808, 'figur': 0.023809523809523808, 'whatev': 0.023809523809523808, 'you.': 0.023809523809523808, '”': 0.023809523809523808, 'key': 0.023809523809523808, 'develop': 0.023809523809523808, 'power': 0.023809523809523808, 'vision': 0.023809523809523808, 'hold': 0.023809523809523808, 'imag': 0.023809523809523808, 'mind': 0.023809523809523808, '.': 0.023809523809523808}, 'Nurture it dail': {'nurtur': 0.1111111111111111, 'daili': 0.1111111111111111, 'give': 0.1111111111111111, 'life': 0.1111111111111111, 'take': 0.1111111111111111, 'purpos': 0.1111111111111111, 'action': 0.1111111111111111, 'toward': 0.1111111111111111, '.': 0.1111111111111111}, 'Vision + desire': {'vision': 0.07142857142857142, '+': 0.2857142857142857, 'desir': 0.07142857142857142, 'dedic': 0.07142857142857142, 'patienc': 0.07142857142857142, 'daili': 0.07142857142857142, 'action': 0.07142857142857142, 'lead': 0.07142857142857142, 'astonish': 0.07142857142857142, 'success': 0.07142857142857142, '.': 0.07142857142857142}, 'I’m amused when': {'’': 0.06666666666666667, 'amus': 0.06666666666666667, 'read': 0.06666666666666667, 'question': 0.06666666666666667, 'written': 0.06666666666666667, 'millenni': 0.06666666666666667, 'quora': 0.06666666666666667, 'ask': 0.06666666666666667, 'becom': 0.06666666666666667, 'rich': 0.06666666666666667, 'famou': 0.06666666666666667, 'next': 0.06666666666666667, 'elon': 0.06666666666666667, 'musk': 0.06666666666666667, '.': 0.06666666666666667}, 'Success is a fi': {'success': 0.14285714285714285, 'fickl': 0.14285714285714285, 'long': 0.14285714285714285, 'game': 0.14285714285714285, 'high': 0.14285714285714285, 'low': 0.14285714285714285, '.': 0.14285714285714285}, 'Similarly, ther': {'similarli': 0.05555555555555555, ',': 0.16666666666666666, 'assur': 0.05555555555555555, 'even': 0.05555555555555555, '’': 0.1111111111111111, 'overnight': 0.05555555555555555, 'sensat': 0.05555555555555555, 'sustain': 0.05555555555555555, 'long': 0.05555555555555555, 'particularli': 0.05555555555555555, 'mental': 0.05555555555555555, 'emot': 0.05555555555555555, 'mean': 0.05555555555555555, 'endur': 0.05555555555555555, '.': 0.05555555555555555}, 'This means you ': {'thi': 0.08333333333333333, 'mean': 0.08333333333333333, 'must': 0.08333333333333333, 'reli': 0.08333333333333333, 'one': 0.08333333333333333, 'true': 0.08333333333333333, 'constant': 0.08333333333333333, 'favour': 0.08333333333333333, ':': 0.08333333333333333, 'person': 0.08333333333333333, 'develop': 0.08333333333333333, '.': 0.08333333333333333}, 'The more you gr': {'grow': 0.07692307692307693, ',': 0.23076923076923078, 'gain': 0.07692307692307693, 'term': 0.07692307692307693, 'financi': 0.07692307692307693, 'resourc': 0.07692307692307693, 'statu': 0.07692307692307693, 'success': 0.07692307692307693, '—': 0.07692307692307693, 'simpl': 0.07692307692307693, '.': 0.07692307692307693}, 'If you leave it': {'leav': 0.1, 'outsid': 0.1, 'condit': 0.1, 'dictat': 0.1, 'circumst': 0.1, ',': 0.1, 'roll': 0.1, 'dice': 0.1, 'futur': 0.1, '.': 0.1}, 'So become inten': {'becom': 0.2, 'intent': 0.2, 'want': 0.2, 'life': 0.2, '.': 0.2}, 'Commit to it.': {'commit': 0.5, '.': 0.5}, 'Nurture your dr': {'nurtur': 0.3333333333333333, 'dream': 0.3333333333333333, '.': 0.3333333333333333}, 'Focus on your d': {'focu': 0.08333333333333333, 'develop': 0.08333333333333333, 'want': 0.08333333333333333, 'give': 0.08333333333333333, ',': 0.08333333333333333, 'know': 0.08333333333333333, '’': 0.08333333333333333, 'involv': 0.08333333333333333, 'befor': 0.08333333333333333, 'take': 0.08333333333333333, 'plung': 0.08333333333333333, '.': 0.08333333333333333}, 'Because I assur': {'becaus': 0.05263157894736842, 'assur': 0.05263157894736842, ',': 0.15789473684210525, 'someon': 0.05263157894736842, 'right': 0.05263157894736842, 'work': 0.05263157894736842, 'harder': 0.05263157894736842, 'read': 0.05263157894736842, 'book': 0.05263157894736842, 'sleep': 0.05263157894736842, 'less': 0.05263157894736842, 'sacrif': 0.05263157894736842, 'realis': 0.05263157894736842, 'dream': 0.05263157894736842, 'may': 0.05263157894736842, 'contest': 0.05263157894736842, '.': 0.05263157894736842}, 'Don’t leave you': {'’': 0.2, 'leav': 0.2, 'dream': 0.2, 'chanc': 0.2, '.': 0.2}}\n"
     ]
    }
   ],
   "source": [
    "def create_tf_matrix(freq_matrix):\n",
    "    tf_matrix = {}\n",
    "    \n",
    "    for sentence, freq_table in freq_matrix.items():\n",
    "        tf_table = {}\n",
    "        \n",
    "#         diff_words_in_sentence = len(freq_table)\n",
    "        diff_words_in_sentence = sum([freq_table[t] for t in freq_table])\n",
    "        \n",
    "        for word, count in freq_table.items():\n",
    "            tf_table[word] = count / diff_words_in_sentence\n",
    "            \n",
    "        tf_matrix[sentence] = tf_table\n",
    "        \n",
    "    return tf_matrix\n",
    "\n",
    "tf_matrix = create_tf_matrix(freq_matrix)\n",
    "print(tf_matrix)"
   ]
  },
  {
   "cell_type": "markdown",
   "metadata": {},
   "source": [
    "# Creating a table for documents per words \n",
    "### For each word, count how many times it appears in the documents"
   ]
  },
  {
   "cell_type": "code",
   "execution_count": 82,
   "metadata": {},
   "outputs": [
    {
     "name": "stdout",
     "output_type": "stream",
     "text": [
      "{'resili': 2, 'stay': 2, 'game': 3, 'longer': 2, '“': 5, 'mountain': 1, 'truth': 1, 'never': 2, 'climb': 1, 'vain': 1, ':': 8, 'either': 1, 'reach': 1, 'point': 2, 'higher': 1, 'today': 1, ',': 22, 'train': 1, 'power': 4, 'abl': 1, 'tomorrow.': 1, '”': 5, '—': 3, 'friedrich': 1, 'nietzsch': 1, 'challeng': 2, 'setback': 2, 'meant': 1, 'defeat': 3, 'promot': 1, '.': 45, 'howev': 2, 'realis': 2, 'mani': 3, 'year': 4, 'crush': 1, 'spirit': 1, 'easier': 1, 'give': 4, 'risk': 1, 'disappoint': 2, 'experienc': 1, 'thi': 4, 'befor': 2, '?': 6, 'honest': 1, '’': 16, 'answer': 2, 'tell': 2, 'right': 4, 'cours': 1, 'action': 3, ';': 1, 'onli': 3, 'know': 5, 'import': 1, 'discourag': 1, 'failur': 4, 'pursu': 3, 'goal': 4, 'dream': 6, 'sinc': 1, 'mean': 4, 'differ': 3, 'thing': 2, 'peopl': 3, 'person': 4, 'fix': 1, 'mindset': 2, 'blow': 1, 'self-esteem': 1, 'yet': 2, 'growth': 1, 'opportun': 1, 'improv': 1, 'find': 2, 'new': 1, 'way': 2, 'overcom': 2, 'obstacl': 1, 'respons': 1, 'wrong': 1, 'neither': 1, 'ha': 2, 'decid': 2, 'outcom': 1, 'draw': 1, 'inner': 1, 'succeed': 2, 'coach': 1, 'client': 1, 'gave': 1, 'toil': 1, 'away': 2, 'respect': 1, 'wa': 2, 'biggest': 1, 'breakthrough': 1, 'came': 1, 'perhap': 1, 'persever': 2, 'final': 1, 'paid': 1, '19th': 1, 'centuri': 1, 'minist': 1, 'henri': 1, 'ward': 1, 'beecher': 1, 'onc': 1, 'said': 1, 'one': 3, 'best': 2, 'success': 5, 'come': 2, 'greatest': 1, 'disappointments.': 1, 'futur': 2, 'hold': 2, 'guid': 1, 'whether': 2, 'endur': 2, 'repeat': 1, 'still': 1, 'consid': 2, 'advic': 2, 'american': 1, 'academ': 1, 'psychologist': 1, 'angela': 1, 'duckworth': 1, 'write': 1, 'grit': 2, 'passion': 1, 'us': 1, 'seem': 1, 'quit': 1, 'start': 1, 'far': 1, 'earli': 1, 'often': 2, 'even': 2, 'effort': 1, 'gritti': 1, 'put': 2, 'singl': 1, 'day': 1, 'matter': 1, 'wake': 1, 'next': 2, 'readi': 1, 'get': 2, 'treadmil': 1, 'keep': 1, 'going.': 1, 'certain': 1, 'settl': 5, 'less': 6, 'capabl': 1, 'strive': 1, 'someth': 1, 'bigger': 2, 'read': 3, 'might': 2, 'identifi': 1, 'messag': 2, 'becaus': 3, 'reson': 1, 'deeper': 1, 'level': 1, 'end': 1, 'tether': 1, 'noth': 1, 'trivial': 1, 'pep': 1, 'talk': 1, 'wish': 1, 'convey': 1, 'irrespect': 1, 'journey': 1, 'receiv': 2, 'deserv': 2, 'convinc': 1, 'justifi': 1, 'two': 1, 'precipic': 1, 'yosemit': 1, 'valley': 1, 'nathan': 1, 'shipp': 1, 'unsplash': 1, 'develop': 6, 'vision': 3, 'want': 4, 'problem': 4, 'bridg': 1, 'gap': 1, 'exist': 1, 'intend': 1, 'reach.': 1, 'earl': 1, 'nightingal': 1, 'recal': 1, 'passag': 1, 'father': 1, 'use': 1, 'grow': 2, '1990': 1, 'unless': 1, 'spent': 1, 'week': 1, 'tri': 1, 'solv': 2, 'yourself.': 1, 'echo': 1, 'mind': 2, 'decad': 2, 'becam': 1, 'motiv': 3, 'leav': 3, 'outsid': 2, 'circumst': 2, 'let': 1, 'everi': 1, 'time': 3, 'must': 2, 'within': 1, 'gnaw': 1, 'solut': 1, 'stop': 1, 'sign': 2, 'advis': 1, 'work': 2, 'requir': 1, 'help': 1, 'gain': 2, 'skill': 1, 'resourc': 2, 'later': 2, 'embrac': 1, 'push': 1, 'past': 1, 'instead': 1, 'retreat': 1, 'resign': 1, 'life': 5, 'could': 1, 'play': 1, 'stake': 1, 'commit': 2, 'jump': 1, 'ship': 1, 'first': 1, 'ask': 2, 'question': 2, 'line': 1, 'fine': 1, 'content': 1, 'long': 3, 'regret': 2, 'achiev': 1, 'carv': 1, 'discov': 1, 'fact': 1, 'hand': 1, 'may': 2, 'interest': 1, 'affirm': 1, 'author': 1, 'larri': 1, 'weidel': 1, 'winner': 1, 'figur': 1, 'whatev': 1, 'you.': 1, 'key': 1, 'imag': 1, 'nurtur': 2, 'daili': 2, 'take': 2, 'purpos': 1, 'toward': 1, '+': 1, 'desir': 1, 'dedic': 1, 'patienc': 1, 'lead': 1, 'astonish': 1, 'amus': 1, 'written': 1, 'millenni': 1, 'quora': 1, 'becom': 2, 'rich': 1, 'famou': 1, 'elon': 1, 'musk': 1, 'fickl': 1, 'high': 1, 'low': 1, 'similarli': 1, 'assur': 2, 'overnight': 1, 'sensat': 1, 'sustain': 1, 'particularli': 1, 'mental': 1, 'emot': 1, 'reli': 1, 'true': 1, 'constant': 1, 'favour': 1, 'term': 1, 'financi': 1, 'statu': 1, 'simpl': 1, 'condit': 1, 'dictat': 1, 'roll': 1, 'dice': 1, 'intent': 1, 'focu': 1, 'involv': 1, 'plung': 1, 'someon': 1, 'harder': 1, 'book': 1, 'sleep': 1, 'sacrif': 1, 'contest': 1, 'chanc': 1}\n"
     ]
    }
   ],
   "source": [
    "def create_documents_per_words(freq_matrix):\n",
    "    doc_per_word_table = {}\n",
    "    \n",
    "    for _, word_freq in freq_matrix.items():\n",
    "        for word, freq in word_freq.items():\n",
    "            if word in doc_per_word_table:\n",
    "                doc_per_word_table[word] += 1\n",
    "            else:\n",
    "                doc_per_word_table[word] = 1\n",
    "    \n",
    "    return doc_per_word_table\n",
    "\n",
    "doc_per_word = create_documents_per_words(freq_matrix)\n",
    "print(doc_per_word)"
   ]
  },
  {
   "cell_type": "markdown",
   "metadata": {},
   "source": [
    "# Create IDF matrix"
   ]
  },
  {
   "cell_type": "code",
   "execution_count": 83,
   "metadata": {},
   "outputs": [
    {
     "name": "stdout",
     "output_type": "stream",
     "text": [
      "{'Those Who Are R': {'resili': 1.414973347970818, 'stay': 1.414973347970818, 'game': 1.2388820889151366, 'longer': 1.414973347970818, '“': 1.0170333392987803, 'mountain': 1.7160033436347992, 'truth': 1.7160033436347992, 'never': 1.414973347970818, 'climb': 1.7160033436347992, 'vain': 1.7160033436347992, ':': 0.8129133566428556, 'either': 1.7160033436347992, 'reach': 1.7160033436347992, 'point': 1.414973347970818, 'higher': 1.7160033436347992, 'today': 1.7160033436347992, ',': 0.37358066281259295, 'train': 1.7160033436347992, 'power': 1.1139433523068367, 'abl': 1.7160033436347992, 'tomorrow.': 1.7160033436347992, '”': 1.0170333392987803, '—': 1.2388820889151366, 'friedrich': 1.7160033436347992, 'nietzsch': 1.7160033436347992, 'challeng': 1.414973347970818, 'setback': 1.414973347970818, 'meant': 1.7160033436347992, 'defeat': 1.2388820889151366, 'promot': 1.7160033436347992, '.': 0.06279082985945544}, 'However, I real': {'howev': 1.414973347970818, ',': 0.37358066281259295, 'realis': 1.414973347970818, 'mani': 1.2388820889151366, 'year': 1.1139433523068367, 'defeat': 1.2388820889151366, 'crush': 1.7160033436347992, 'spirit': 1.7160033436347992, 'easier': 1.7160033436347992, 'give': 1.1139433523068367, 'risk': 1.7160033436347992, 'setback': 1.414973347970818, 'disappoint': 1.414973347970818, '.': 0.06279082985945544}, 'Have you experi': {'experienc': 1.7160033436347992, 'thi': 1.1139433523068367, 'befor': 1.414973347970818, '?': 0.9378520932511555}, 'To be honest, I': {'honest': 1.7160033436347992, ',': 0.37358066281259295, '’': 0.5118833609788743, 'answer': 1.414973347970818, '.': 0.06279082985945544}, 'I can’t tell yo': {'’': 0.5118833609788743, 'tell': 1.414973347970818, 'right': 1.1139433523068367, 'cours': 1.7160033436347992, 'action': 1.2388820889151366, ';': 1.7160033436347992, 'onli': 1.2388820889151366, 'know': 1.0170333392987803, '.': 0.06279082985945544}, 'However, it’s i': {'howev': 1.414973347970818, ',': 0.37358066281259295, '’': 0.5118833609788743, 'import': 1.7160033436347992, 'discourag': 1.7160033436347992, 'failur': 1.1139433523068367, 'pursu': 1.2388820889151366, 'goal': 1.1139433523068367, 'dream': 0.9378520932511555, 'sinc': 1.7160033436347992, 'mean': 1.1139433523068367, 'differ': 1.2388820889151366, 'thing': 1.414973347970818, 'peopl': 1.2388820889151366, '.': 0.06279082985945544}, 'To a person wit': {'person': 1.1139433523068367, 'fix': 1.7160033436347992, 'mindset': 1.414973347970818, 'failur': 1.1139433523068367, 'blow': 1.7160033436347992, 'self-esteem': 1.7160033436347992, ',': 0.37358066281259295, 'yet': 1.414973347970818, 'growth': 1.7160033436347992, '’': 0.5118833609788743, 'opportun': 1.7160033436347992, 'improv': 1.7160033436347992, 'find': 1.414973347970818, 'new': 1.7160033436347992, 'way': 1.414973347970818, 'overcom': 1.414973347970818, 'obstacl': 1.7160033436347992, '.': 0.06279082985945544}, 'Same failure, y': {'failur': 1.1139433523068367, ',': 0.37358066281259295, 'yet': 1.414973347970818, 'differ': 1.2388820889151366, 'respons': 1.7160033436347992, '.': 0.06279082985945544}, 'Who is right an': {'right': 1.1139433523068367, 'wrong': 1.7160033436347992, '?': 0.9378520932511555}, 'Neither.': {'neither': 1.7160033436347992, '.': 0.06279082985945544}, 'Each person has': {'person': 1.1139433523068367, 'ha': 1.414973347970818, 'differ': 1.2388820889151366, 'mindset': 1.414973347970818, 'decid': 1.414973347970818, 'outcom': 1.7160033436347992, '.': 0.06279082985945544}, 'Those who are r': {'resili': 1.414973347970818, 'stay': 1.414973347970818, 'game': 1.2388820889151366, 'longer': 1.414973347970818, 'draw': 1.7160033436347992, 'inner': 1.7160033436347992, 'mean': 1.1139433523068367, 'succeed': 1.414973347970818, '.': 0.06279082985945544}, 'I’ve coached ma': {'’': 0.5118833609788743, 'coach': 1.7160033436347992, 'mani': 1.2388820889151366, 'client': 1.7160033436347992, 'gave': 1.7160033436347992, 'year': 1.1139433523068367, 'toil': 1.7160033436347992, 'away': 1.414973347970818, 'respect': 1.7160033436347992, 'goal': 1.1139433523068367, 'dream': 0.9378520932511555, '.': 0.06279082985945544}, 'It was at that ': {'wa': 1.414973347970818, 'point': 1.414973347970818, 'biggest': 1.7160033436347992, 'breakthrough': 1.7160033436347992, 'came': 1.7160033436347992, '.': 0.06279082985945544}, 'Perhaps all tho': {'perhap': 1.7160033436347992, 'year': 1.1139433523068367, 'persever': 1.414973347970818, 'final': 1.7160033436347992, 'paid': 1.7160033436347992, '.': 0.06279082985945544}, 'It was the 19th': {'wa': 1.414973347970818, '19th': 1.7160033436347992, 'centuri': 1.7160033436347992, '’': 0.5118833609788743, 'minist': 1.7160033436347992, 'henri': 1.7160033436347992, 'ward': 1.7160033436347992, 'beecher': 1.7160033436347992, 'onc': 1.7160033436347992, 'said': 1.7160033436347992, ':': 0.8129133566428556, '“': 1.0170333392987803, 'one': 1.2388820889151366, 'best': 1.414973347970818, 'success': 1.0170333392987803, 'come': 1.414973347970818, 'greatest': 1.7160033436347992, 'disappointments.': 1.7160033436347992, '”': 1.0170333392987803, 'know': 1.0170333392987803, 'futur': 1.414973347970818, 'hold': 1.414973347970818, ',': 0.37358066281259295, 'onli': 1.2388820889151366, 'guid': 1.7160033436347992, 'whether': 1.414973347970818, 'endur': 1.414973347970818, 'repeat': 1.7160033436347992, 'defeat': 1.2388820889151366, 'disappoint': 1.414973347970818, 'still': 1.7160033436347992, 'pursu': 1.2388820889151366, 'dream': 0.9378520932511555, '.': 0.06279082985945544}, 'Consider the ad': {'consid': 1.414973347970818, 'advic': 1.414973347970818, 'american': 1.7160033436347992, 'academ': 1.7160033436347992, 'psychologist': 1.7160033436347992, 'angela': 1.7160033436347992, 'duckworth': 1.7160033436347992, 'write': 1.7160033436347992, 'grit': 1.414973347970818, ':': 0.8129133566428556, 'power': 1.1139433523068367, 'passion': 1.7160033436347992, 'persever': 1.414973347970818, '“': 1.0170333392987803, 'mani': 1.2388820889151366, 'us': 1.7160033436347992, ',': 0.37358066281259295, 'seem': 1.7160033436347992, 'quit': 1.7160033436347992, 'start': 1.7160033436347992, 'far': 1.7160033436347992, 'earli': 1.7160033436347992, 'often': 1.414973347970818, '.': 0.06279082985945544}, 'Even more than ': {'even': 1.414973347970818, 'effort': 1.7160033436347992, 'gritti': 1.7160033436347992, 'person': 1.1139433523068367, 'put': 1.414973347970818, 'singl': 1.7160033436347992, 'day': 1.7160033436347992, ',': 0.37358066281259295, 'matter': 1.7160033436347992, 'wake': 1.7160033436347992, 'next': 1.414973347970818, 'readi': 1.7160033436347992, 'get': 1.414973347970818, 'treadmil': 1.7160033436347992, 'keep': 1.7160033436347992, 'going.': 1.7160033436347992, '”': 1.0170333392987803, 'know': 1.0170333392987803, 'one': 1.2388820889151366, 'thing': 1.414973347970818, 'certain': 1.7160033436347992, ':': 0.8129133566428556, '’': 0.5118833609788743, 'settl': 1.0170333392987803, 'less': 0.9378520932511555, 'capabl': 1.7160033436347992, 'strive': 1.7160033436347992, 'someth': 1.7160033436347992, 'bigger': 1.414973347970818, '.': 0.06279082985945544}, 'Some of you rea': {'read': 1.2388820889151366, 'thi': 1.1139433523068367, 'might': 1.414973347970818, 'identifi': 1.7160033436347992, 'messag': 1.414973347970818, 'becaus': 1.2388820889151366, 'reson': 1.7160033436347992, 'deeper': 1.7160033436347992, 'level': 1.7160033436347992, '.': 0.06279082985945544}, 'For others, at ': {',': 0.37358066281259295, 'end': 1.7160033436347992, 'tether': 1.7160033436347992, 'messag': 1.414973347970818, 'might': 1.414973347970818, 'noth': 1.7160033436347992, 'trivial': 1.7160033436347992, 'pep': 1.7160033436347992, 'talk': 1.7160033436347992, '.': 0.06279082985945544}, 'What I wish to ': {'wish': 1.7160033436347992, 'convey': 1.7160033436347992, 'irrespect': 1.7160033436347992, 'journey': 1.7160033436347992, ':': 0.8129133566428556, 'never': 1.414973347970818, 'settl': 1.0170333392987803, 'less': 0.9378520932511555, '.': 0.06279082985945544}, 'If you settle f': {'settl': 1.0170333392987803, 'less': 0.9378520932511555, ',': 0.37358066281259295, 'receiv': 1.414973347970818, 'deserv': 1.414973347970818, 'convinc': 1.7160033436347992, 'justifi': 1.7160033436347992, '.': 0.06279082985945544}, '“Two people on ': {'“': 1.0170333392987803, 'two': 1.7160033436347992, 'peopl': 1.2388820889151366, 'precipic': 1.7160033436347992, 'yosemit': 1.7160033436347992, 'valley': 1.7160033436347992, '”': 1.0170333392987803, 'nathan': 1.7160033436347992, 'shipp': 1.7160033436347992, 'unsplash': 1.7160033436347992, 'develop': 0.9378520932511555, 'power': 1.1139433523068367, 'vision': 1.2388820889151366, 'want': 1.1139433523068367, 'problem': 1.1139433523068367, 'bridg': 1.7160033436347992, 'gap': 1.7160033436347992, 'exist': 1.7160033436347992, 'goal': 1.1139433523068367, 'intend': 1.7160033436347992, 'reach.': 1.7160033436347992, '—': 1.2388820889151366, 'earl': 1.7160033436347992, 'nightingal': 1.7160033436347992, 'recal': 1.7160033436347992, 'passag': 1.7160033436347992, 'father': 1.7160033436347992, 'often': 1.414973347970818, 'use': 1.7160033436347992, 'grow': 1.414973347970818, '1990': 1.7160033436347992, ':': 0.8129133566428556, '’': 0.5118833609788743, 'tell': 1.414973347970818, 'unless': 1.7160033436347992, 'spent': 1.7160033436347992, 'week': 1.7160033436347992, 'tri': 1.7160033436347992, 'solv': 1.414973347970818, 'yourself.': 1.7160033436347992, 'advic': 1.414973347970818, 'ha': 1.414973347970818, 'echo': 1.7160033436347992, 'mind': 1.414973347970818, 'decad': 1.414973347970818, 'becam': 1.7160033436347992, 'motiv': 1.2388820889151366, '.': 0.06279082985945544}, 'Don’t leave it ': {'’': 0.5118833609788743, 'leav': 1.2388820889151366, 'peopl': 1.2388820889151366, 'outsid': 1.414973347970818, 'circumst': 1.414973347970818, 'motiv': 1.2388820889151366, 'becaus': 1.2388820889151366, 'let': 1.7160033436347992, 'everi': 1.7160033436347992, 'time': 1.2388820889151366, '.': 0.06279082985945544}, 'It must come fr': {'must': 1.414973347970818, 'come': 1.414973347970818, 'within': 1.7160033436347992, '.': 0.06279082985945544}, 'Gnaw away at yo': {'gnaw': 1.7160033436347992, 'away': 1.414973347970818, 'problem': 1.1139433523068367, 'solv': 1.414973347970818, 'find': 1.414973347970818, 'solut': 1.7160033436347992, '.': 0.06279082985945544}, 'Problems are no': {'problem': 1.1139433523068367, 'stop': 1.7160033436347992, 'sign': 1.414973347970818, ',': 0.37358066281259295, 'advis': 1.7160033436347992, 'work': 1.414973347970818, 'requir': 1.7160033436347992, 'overcom': 1.414973347970818, '.': 0.06279082985945544}, 'Most times, pro': {'time': 1.2388820889151366, ',': 0.37358066281259295, 'problem': 1.1139433523068367, 'help': 1.7160033436347992, 'gain': 1.414973347970818, 'skill': 1.7160033436347992, 'develop': 0.9378520932511555, 'resourc': 1.414973347970818, 'succeed': 1.414973347970818, 'later': 1.414973347970818, '.': 0.06279082985945544}, 'So embrace your': {'embrac': 1.7160033436347992, 'challeng': 1.414973347970818, 'develop': 0.9378520932511555, 'grit': 1.414973347970818, 'push': 1.7160033436347992, 'past': 1.7160033436347992, 'instead': 1.7160033436347992, 'retreat': 1.7160033436347992, 'resign': 1.7160033436347992, '.': 0.06279082985945544}, 'Where are you s': {'settl': 1.0170333392987803, 'life': 1.0170333392987803, 'right': 1.1139433523068367, '?': 0.9378520932511555}, 'Could you be yo': {'could': 1.7160033436347992, 'play': 1.7160033436347992, 'bigger': 1.414973347970818, 'stake': 1.7160033436347992, '?': 0.9378520932511555}, 'Are you willing': {'commit': 1.414973347970818, 'thi': 1.1139433523068367, 'way': 1.414973347970818, 'life': 1.0170333392987803, 'jump': 1.7160033436347992, 'ship': 1.7160033436347992, 'first': 1.7160033436347992, 'sign': 1.414973347970818, 'failur': 1.1139433523068367, '?': 0.9378520932511555}, 'You should ask ': {'ask': 1.414973347970818, 'question': 1.414973347970818, 'decid': 1.414973347970818, 'whether': 1.414973347970818, '’': 0.5118833609788743, 'put': 1.414973347970818, 'line': 1.7160033436347992, 'settl': 1.0170333392987803, 'less': 0.9378520932511555, '.': 0.06279082985945544}, 'And that’s fine': {'’': 0.5118833609788743, 'fine': 1.7160033436347992, 'content': 1.7160033436347992, 'receiv': 1.414973347970818, 'less': 0.9378520932511555, ',': 0.37358066281259295, 'long': 1.2388820889151366, 'regret': 1.414973347970818, 'later': 1.414973347970818, '.': 0.06279082985945544}, 'If you have not': {'achiev': 1.7160033436347992, 'success': 1.0170333392987803, 'deserv': 1.414973347970818, 'consid': 1.414973347970818, 'give': 1.1139433523068367, ',': 0.37358066281259295, 'regret': 1.414973347970818, 'year': 1.1139433523068367, 'decad': 1.414973347970818, '?': 0.9378520932511555}, 'Only you can an': {'onli': 1.2388820889151366, 'answer': 1.414973347970818, ',': 0.37358066281259295, 'carv': 1.7160033436347992, 'time': 1.2388820889151366, 'discov': 1.7160033436347992, 'motiv': 1.2388820889151366, 'pursu': 1.2388820889151366, 'goal': 1.1139433523068367, '.': 0.06279082985945544}, 'It’s a fact, if': {'’': 0.5118833609788743, 'fact': 1.7160033436347992, ',': 0.37358066281259295, 'know': 1.0170333392987803, 'want': 1.1139433523068367, 'get': 1.414973347970818, 'life': 1.0170333392987803, 'hand': 1.7160033436347992, 'may': 1.414973347970818, 'best': 1.414973347970818, 'interest': 1.7160033436347992, 'affirm': 1.7160033436347992, 'author': 1.7160033436347992, 'larri': 1.7160033436347992, 'weidel': 1.7160033436347992, ':': 0.8129133566428556, '“': 1.0170333392987803, 'winner': 1.7160033436347992, 'figur': 1.7160033436347992, 'whatev': 1.7160033436347992, 'you.': 1.7160033436347992, '”': 1.0170333392987803, 'key': 1.7160033436347992, 'develop': 0.9378520932511555, 'power': 1.1139433523068367, 'vision': 1.2388820889151366, 'hold': 1.414973347970818, 'imag': 1.7160033436347992, 'mind': 1.414973347970818, '.': 0.06279082985945544}, 'Nurture it dail': {'nurtur': 1.414973347970818, 'daili': 1.414973347970818, 'give': 1.1139433523068367, 'life': 1.0170333392987803, 'take': 1.414973347970818, 'purpos': 1.7160033436347992, 'action': 1.2388820889151366, 'toward': 1.7160033436347992, '.': 0.06279082985945544}, 'Vision + desire': {'vision': 1.2388820889151366, '+': 1.7160033436347992, 'desir': 1.7160033436347992, 'dedic': 1.7160033436347992, 'patienc': 1.7160033436347992, 'daili': 1.414973347970818, 'action': 1.2388820889151366, 'lead': 1.7160033436347992, 'astonish': 1.7160033436347992, 'success': 1.0170333392987803, '.': 0.06279082985945544}, 'I’m amused when': {'’': 0.5118833609788743, 'amus': 1.7160033436347992, 'read': 1.2388820889151366, 'question': 1.414973347970818, 'written': 1.7160033436347992, 'millenni': 1.7160033436347992, 'quora': 1.7160033436347992, 'ask': 1.414973347970818, 'becom': 1.414973347970818, 'rich': 1.7160033436347992, 'famou': 1.7160033436347992, 'next': 1.414973347970818, 'elon': 1.7160033436347992, 'musk': 1.7160033436347992, '.': 0.06279082985945544}, 'Success is a fi': {'success': 1.0170333392987803, 'fickl': 1.7160033436347992, 'long': 1.2388820889151366, 'game': 1.2388820889151366, 'high': 1.7160033436347992, 'low': 1.7160033436347992, '.': 0.06279082985945544}, 'Similarly, ther': {'similarli': 1.7160033436347992, ',': 0.37358066281259295, 'assur': 1.414973347970818, 'even': 1.414973347970818, '’': 0.5118833609788743, 'overnight': 1.7160033436347992, 'sensat': 1.7160033436347992, 'sustain': 1.7160033436347992, 'long': 1.2388820889151366, 'particularli': 1.7160033436347992, 'mental': 1.7160033436347992, 'emot': 1.7160033436347992, 'mean': 1.1139433523068367, 'endur': 1.414973347970818, '.': 0.06279082985945544}, 'This means you ': {'thi': 1.1139433523068367, 'mean': 1.1139433523068367, 'must': 1.414973347970818, 'reli': 1.7160033436347992, 'one': 1.2388820889151366, 'true': 1.7160033436347992, 'constant': 1.7160033436347992, 'favour': 1.7160033436347992, ':': 0.8129133566428556, 'person': 1.1139433523068367, 'develop': 0.9378520932511555, '.': 0.06279082985945544}, 'The more you gr': {'grow': 1.414973347970818, ',': 0.37358066281259295, 'gain': 1.414973347970818, 'term': 1.7160033436347992, 'financi': 1.7160033436347992, 'resourc': 1.414973347970818, 'statu': 1.7160033436347992, 'success': 1.0170333392987803, '—': 1.2388820889151366, 'simpl': 1.7160033436347992, '.': 0.06279082985945544}, 'If you leave it': {'leav': 1.2388820889151366, 'outsid': 1.414973347970818, 'condit': 1.7160033436347992, 'dictat': 1.7160033436347992, 'circumst': 1.414973347970818, ',': 0.37358066281259295, 'roll': 1.7160033436347992, 'dice': 1.7160033436347992, 'futur': 1.414973347970818, '.': 0.06279082985945544}, 'So become inten': {'becom': 1.414973347970818, 'intent': 1.7160033436347992, 'want': 1.1139433523068367, 'life': 1.0170333392987803, '.': 0.06279082985945544}, 'Commit to it.': {'commit': 1.414973347970818, '.': 0.06279082985945544}, 'Nurture your dr': {'nurtur': 1.414973347970818, 'dream': 0.9378520932511555, '.': 0.06279082985945544}, 'Focus on your d': {'focu': 1.7160033436347992, 'develop': 0.9378520932511555, 'want': 1.1139433523068367, 'give': 1.1139433523068367, ',': 0.37358066281259295, 'know': 1.0170333392987803, '’': 0.5118833609788743, 'involv': 1.7160033436347992, 'befor': 1.414973347970818, 'take': 1.414973347970818, 'plung': 1.7160033436347992, '.': 0.06279082985945544}, 'Because I assur': {'becaus': 1.2388820889151366, 'assur': 1.414973347970818, ',': 0.37358066281259295, 'someon': 1.7160033436347992, 'right': 1.1139433523068367, 'work': 1.414973347970818, 'harder': 1.7160033436347992, 'read': 1.2388820889151366, 'book': 1.7160033436347992, 'sleep': 1.7160033436347992, 'less': 0.9378520932511555, 'sacrif': 1.7160033436347992, 'realis': 1.414973347970818, 'dream': 0.9378520932511555, 'may': 1.414973347970818, 'contest': 1.7160033436347992, '.': 0.06279082985945544}, 'Don’t leave you': {'’': 0.5118833609788743, 'leav': 1.2388820889151366, 'dream': 0.9378520932511555, 'chanc': 1.7160033436347992, '.': 0.06279082985945544}}\n"
     ]
    }
   ],
   "source": [
    "def create_idf_matrix(freq_matrix, doc_per_word_, total_documents):\n",
    "    idf_matrix = {}\n",
    "    \n",
    "    for sentence, freq_table in freq_matrix.items():\n",
    "        idf_table = {}\n",
    "        \n",
    "        for word in freq_table.keys():\n",
    "            idf_table[word] = math.log10(total_documents/ float(doc_per_word[word]))\n",
    "            \n",
    "        idf_matrix[sentence] = idf_table\n",
    "        \n",
    "    return idf_matrix\n",
    "\n",
    "idf_matrix = create_idf_matrix(freq_matrix, doc_per_word, total_documents)\n",
    "print(idf_matrix)"
   ]
  },
  {
   "cell_type": "markdown",
   "metadata": {},
   "source": [
    "# Calculate TF-IDF and generate a matrix"
   ]
  },
  {
   "cell_type": "code",
   "execution_count": 84,
   "metadata": {},
   "outputs": [
    {
     "name": "stdout",
     "output_type": "stream",
     "text": [
      "{'Those Who Are R': {'resili': 0.04161686317561229, 'stay': 0.04161686317561229, 'game': 0.036437708497504016, 'longer': 0.04161686317561229, '“': 0.029912745273493538, 'mountain': 0.050470686577494095, 'truth': 0.050470686577494095, 'never': 0.04161686317561229, 'climb': 0.10094137315498819, 'vain': 0.050470686577494095, ':': 0.023909216371848695, 'either': 0.050470686577494095, 'reach': 0.050470686577494095, 'point': 0.04161686317561229, 'higher': 0.10094137315498819, 'today': 0.050470686577494095, ',': 0.021975333106623113, 'train': 0.050470686577494095, 'power': 0.03276303977373049, 'abl': 0.050470686577494095, 'tomorrow.': 0.050470686577494095, '”': 0.029912745273493538, '—': 0.036437708497504016, 'friedrich': 0.050470686577494095, 'nietzsch': 0.050470686577494095, 'challeng': 0.04161686317561229, 'setback': 0.04161686317561229, 'meant': 0.050470686577494095, 'defeat': 0.036437708497504016, 'promot': 0.050470686577494095, '.': 0.0018467891135133955}, 'However, I real': {'howev': 0.09433155653138786, ',': 0.04981075504167906, 'realis': 0.09433155653138786, 'mani': 0.08259213926100911, 'year': 0.07426289015378912, 'defeat': 0.08259213926100911, 'crush': 0.11440022290898662, 'spirit': 0.11440022290898662, 'easier': 0.11440022290898662, 'give': 0.07426289015378912, 'risk': 0.11440022290898662, 'setback': 0.09433155653138786, 'disappoint': 0.09433155653138786, '.': 0.004186055323963696}, 'Have you experi': {'experienc': 0.4290008359086998, 'thi': 0.2784858380767092, 'befor': 0.3537433369927045, '?': 0.23446302331278887}, 'To be honest, I': {'honest': 0.34320066872695987, ',': 0.07471613256251859, '’': 0.10237667219577487, 'answer': 0.2829946695941636, '.': 0.01255816597189109}, 'I can’t tell yo': {'’': 0.0568759289976527, 'tell': 0.15721926088564644, 'right': 0.12377148358964851, 'cours': 0.19066703818164435, 'action': 0.13765356543501517, ';': 0.19066703818164435, 'onli': 0.13765356543501517, 'know': 0.11300370436653114, '.': 0.006976758873272827}, 'However, it’s i': {'howev': 0.07860963044282322, ',': 0.041508962534732546, '’': 0.02843796449882635, 'import': 0.09533351909082217, 'discourag': 0.09533351909082217, 'failur': 0.12377148358964851, 'pursu': 0.06882678271750758, 'goal': 0.061885741794824256, 'dream': 0.05210289406950863, 'sinc': 0.09533351909082217, 'mean': 0.061885741794824256, 'differ': 0.13765356543501517, 'thing': 0.07860963044282322, 'peopl': 0.06882678271750758, '.': 0.0034883794366364134}, 'To a person wit': {'person': 0.10608984307684159, 'fix': 0.08171444493499043, 'mindset': 0.13475936647341122, 'failur': 0.053044921538420796, 'blow': 0.08171444493499043, 'self-esteem': 0.08171444493499043, ',': 0.035579110744056466, 'yet': 0.06737968323670561, 'growth': 0.08171444493499043, '’': 0.024375398141851155, 'opportun': 0.08171444493499043, 'improv': 0.08171444493499043, 'find': 0.06737968323670561, 'new': 0.08171444493499043, 'way': 0.06737968323670561, 'overcom': 0.06737968323670561, 'obstacl': 0.08171444493499043, '.': 0.0029900395171169256}, 'Same failure, y': {'failur': 0.18565722538447277, ',': 0.06226344380209882, 'yet': 0.23582889132846965, 'differ': 0.20648034815252275, 'respons': 0.28600055727246654, '.': 0.01046513830990924}, 'Who is right an': {'right': 0.37131445076894554, 'wrong': 0.5720011145449331, '?': 0.3126173644170518}, 'Neither.': {'neither': 0.8580016718173996, '.': 0.03139541492972772}, 'Each person has': {'person': 0.15913476461526238, 'ha': 0.20213904971011684, 'differ': 0.17698315555930522, 'mindset': 0.20213904971011684, 'decid': 0.20213904971011684, 'outcom': 0.2451433348049713, '.': 0.008970118551350777}, 'Those who are r': {'resili': 0.15721926088564644, 'stay': 0.15721926088564644, 'game': 0.13765356543501517, 'longer': 0.15721926088564644, 'draw': 0.19066703818164435, 'inner': 0.19066703818164435, 'mean': 0.12377148358964851, 'succeed': 0.15721926088564644, '.': 0.006976758873272827}, 'I’ve coached ma': {'’': 0.039375643152221106, 'coach': 0.13200025720267686, 'mani': 0.19059724444848256, 'client': 0.13200025720267686, 'gave': 0.13200025720267686, 'year': 0.08568795017744898, 'toil': 0.13200025720267686, 'away': 0.10884410369006292, 'respect': 0.13200025720267686, 'goal': 0.08568795017744898, 'dream': 0.07214246871162736, '.': 0.004830063835342726}, 'It was at that ': {'wa': 0.23582889132846965, 'point': 0.23582889132846965, 'biggest': 0.28600055727246654, 'breakthrough': 0.28600055727246654, 'came': 0.28600055727246654, '.': 0.01046513830990924}, 'Perhaps all tho': {'perhap': 0.28600055727246654, 'year': 0.18565722538447277, 'persever': 0.23582889132846965, 'final': 0.28600055727246654, 'paid': 0.28600055727246654, '.': 0.01046513830990924}, 'It was the 19th': {'wa': 0.03930481522141161, '19th': 0.04766675954541109, 'centuri': 0.04766675954541109, '’': 0.02843796449882635, 'minist': 0.04766675954541109, 'henri': 0.04766675954541109, 'ward': 0.04766675954541109, 'beecher': 0.04766675954541109, 'onc': 0.04766675954541109, 'said': 0.04766675954541109, ':': 0.022580926573412655, '“': 0.028250926091632784, 'one': 0.06882678271750758, 'best': 0.03930481522141161, 'success': 0.028250926091632784, 'come': 0.03930481522141161, 'greatest': 0.04766675954541109, 'disappointments.': 0.04766675954541109, '”': 0.028250926091632784, 'know': 0.028250926091632784, 'futur': 0.03930481522141161, 'hold': 0.03930481522141161, ',': 0.010377240633683137, 'onli': 0.03441339135875379, 'guid': 0.04766675954541109, 'whether': 0.03930481522141161, 'endur': 0.03930481522141161, 'repeat': 0.04766675954541109, 'defeat': 0.03441339135875379, 'disappoint': 0.03930481522141161, 'still': 0.04766675954541109, 'pursu': 0.03441339135875379, 'dream': 0.026051447034754316, '.': 0.0017441897183182067}, 'Consider the ad': {'consid': 0.05240642029521548, 'advic': 0.05240642029521548, 'american': 0.06355567939388145, 'academ': 0.06355567939388145, 'psychologist': 0.06355567939388145, 'angela': 0.06355567939388145, 'duckworth': 0.06355567939388145, 'write': 0.06355567939388145, 'grit': 0.05240642029521548, ':': 0.060215804195767074, 'power': 0.041257161196549506, 'passion': 0.06355567939388145, 'persever': 0.05240642029521548, '“': 0.037667901455510376, 'mani': 0.04588452181167173, 'us': 0.06355567939388145, ',': 0.027672641689821698, 'seem': 0.06355567939388145, 'quit': 0.06355567939388145, 'start': 0.06355567939388145, 'far': 0.1271113587877629, 'earli': 0.06355567939388145, 'often': 0.05240642029521548, '.': 0.0023255862910909423}, 'Even more than ': {'even': 0.03930481522141161, 'effort': 0.04766675954541109, 'gritti': 0.04766675954541109, 'person': 0.030942870897412128, 'put': 0.03930481522141161, 'singl': 0.04766675954541109, 'day': 0.09533351909082217, ',': 0.041508962534732546, 'matter': 0.04766675954541109, 'wake': 0.04766675954541109, 'next': 0.07860963044282322, 'readi': 0.04766675954541109, 'get': 0.03930481522141161, 'treadmil': 0.04766675954541109, 'keep': 0.04766675954541109, 'going.': 0.04766675954541109, '”': 0.028250926091632784, 'know': 0.028250926091632784, 'one': 0.03441339135875379, 'thing': 0.03930481522141161, 'certain': 0.04766675954541109, ':': 0.022580926573412655, '’': 0.02843796449882635, 'settl': 0.028250926091632784, 'less': 0.026051447034754316, 'capabl': 0.04766675954541109, 'strive': 0.04766675954541109, 'someth': 0.04766675954541109, 'bigger': 0.03930481522141161, '.': 0.0017441897183182067}, 'Some of you rea': {'read': 0.11262564444683061, 'thi': 0.20253515496487942, 'might': 0.1286339407246198, 'identifi': 0.15600030396679992, 'messag': 0.1286339407246198, 'becaus': 0.11262564444683061, 'reson': 0.15600030396679992, 'deeper': 0.15600030396679992, 'level': 0.15600030396679992, '.': 0.005708257259950495}, 'For others, at ': {',': 0.037358066281259296, 'end': 0.17160033436347993, 'tether': 0.17160033436347993, 'messag': 0.1414973347970818, 'might': 0.1414973347970818, 'noth': 0.17160033436347993, 'trivial': 0.17160033436347993, 'pep': 0.17160033436347993, 'talk': 0.17160033436347993, '.': 0.006279082985945545}, 'What I wish to ': {'wish': 0.19066703818164435, 'convey': 0.19066703818164435, 'irrespect': 0.19066703818164435, 'journey': 0.19066703818164435, ':': 0.09032370629365062, 'never': 0.15721926088564644, 'settl': 0.11300370436653114, 'less': 0.10420578813901726, '.': 0.006976758873272827}, 'If you settle f': {'settl': 0.10170333392987803, 'less': 0.1875704186502311, ',': 0.037358066281259296, 'receiv': 0.2829946695941636, 'deserv': 0.1414973347970818, 'convinc': 0.17160033436347993, 'justifi': 0.17160033436347993, '.': 0.006279082985945545}, '“Two people on ': {'“': 0.05650185218326557, 'two': 0.03177783969694072, 'peopl': 0.022942260905835864, 'precipic': 0.03177783969694072, 'yosemit': 0.03177783969694072, 'valley': 0.03177783969694072, '”': 0.05650185218326557, 'nathan': 0.03177783969694072, 'shipp': 0.03177783969694072, 'unsplash': 0.03177783969694072, 'develop': 0.017367631356502877, 'power': 0.020628580598274753, 'vision': 0.022942260905835864, 'want': 0.020628580598274753, 'problem': 0.041257161196549506, 'bridg': 0.03177783969694072, 'gap': 0.03177783969694072, 'exist': 0.03177783969694072, 'goal': 0.020628580598274753, 'intend': 0.03177783969694072, 'reach.': 0.03177783969694072, '—': 0.022942260905835864, 'earl': 0.03177783969694072, 'nightingal': 0.03177783969694072, 'recal': 0.03177783969694072, 'passag': 0.03177783969694072, 'father': 0.03177783969694072, 'often': 0.02620321014760774, 'use': 0.03177783969694072, 'grow': 0.02620321014760774, '1990': 0.03177783969694072, ':': 0.015053951048941768, '’': 0.018958642999217568, 'tell': 0.02620321014760774, 'unless': 0.03177783969694072, 'spent': 0.03177783969694072, 'week': 0.03177783969694072, 'tri': 0.03177783969694072, 'solv': 0.02620321014760774, 'yourself.': 0.03177783969694072, 'advic': 0.02620321014760774, 'ha': 0.02620321014760774, 'echo': 0.03177783969694072, 'mind': 0.02620321014760774, 'decad': 0.02620321014760774, 'becam': 0.03177783969694072, 'motiv': 0.022942260905835864, '.': 0.0011627931455454711}, 'Don’t leave it ': {'’': 0.04653485099807948, 'leav': 0.11262564444683061, 'peopl': 0.11262564444683061, 'outsid': 0.1286339407246198, 'circumst': 0.1286339407246198, 'motiv': 0.11262564444683061, 'becaus': 0.11262564444683061, 'let': 0.15600030396679992, 'everi': 0.15600030396679992, 'time': 0.11262564444683061, '.': 0.005708257259950495}, 'It must come fr': {'must': 0.3537433369927045, 'come': 0.3537433369927045, 'within': 0.4290008359086998, '.': 0.01569770746486386}, 'Gnaw away at yo': {'gnaw': 0.2451433348049713, 'away': 0.20213904971011684, 'problem': 0.15913476461526238, 'solv': 0.20213904971011684, 'find': 0.20213904971011684, 'solut': 0.2451433348049713, '.': 0.008970118551350777}, 'Problems are no': {'problem': 0.12377148358964851, 'stop': 0.19066703818164435, 'sign': 0.15721926088564644, ',': 0.041508962534732546, 'advis': 0.19066703818164435, 'work': 0.15721926088564644, 'requir': 0.19066703818164435, 'overcom': 0.15721926088564644, '.': 0.006976758873272827}, 'Most times, pro': {'time': 0.11262564444683061, ',': 0.03396187843750845, 'problem': 0.10126757748243971, 'help': 0.15600030396679992, 'gain': 0.1286339407246198, 'skill': 0.15600030396679992, 'develop': 0.0852592812046505, 'resourc': 0.1286339407246198, 'succeed': 0.1286339407246198, 'later': 0.1286339407246198, '.': 0.005708257259950495}, 'So embrace your': {'embrac': 0.17160033436347993, 'challeng': 0.1414973347970818, 'develop': 0.09378520932511555, 'grit': 0.1414973347970818, 'push': 0.17160033436347993, 'past': 0.17160033436347993, 'instead': 0.17160033436347993, 'retreat': 0.17160033436347993, 'resign': 0.17160033436347993, '.': 0.006279082985945545}, 'Where are you s': {'settl': 0.25425833482469506, 'life': 0.25425833482469506, 'right': 0.2784858380767092, '?': 0.23446302331278887}, 'Could you be yo': {'could': 0.34320066872695987, 'play': 0.34320066872695987, 'bigger': 0.2829946695941636, 'stake': 0.34320066872695987, '?': 0.1875704186502311}, 'Are you willing': {'commit': 0.1414973347970818, 'thi': 0.11139433523068368, 'way': 0.1414973347970818, 'life': 0.10170333392987803, 'jump': 0.17160033436347993, 'ship': 0.17160033436347993, 'first': 0.17160033436347993, 'sign': 0.1414973347970818, 'failur': 0.11139433523068368, '?': 0.09378520932511555}, 'You should ask ': {'ask': 0.1414973347970818, 'question': 0.1414973347970818, 'decid': 0.1414973347970818, 'whether': 0.1414973347970818, '’': 0.051188336097887435, 'put': 0.1414973347970818, 'line': 0.17160033436347993, 'settl': 0.10170333392987803, 'less': 0.09378520932511555, '.': 0.006279082985945545}, 'And that’s fine': {'’': 0.12797084024471858, 'fine': 0.14300027863623327, 'content': 0.14300027863623327, 'receiv': 0.11791444566423483, 'less': 0.07815434110426295, ',': 0.03113172190104941, 'long': 0.10324017407626138, 'regret': 0.11791444566423483, 'later': 0.11791444566423483, '.': 0.00523256915495462}, 'If you have not': {'achiev': 0.17160033436347993, 'success': 0.10170333392987803, 'deserv': 0.1414973347970818, 'consid': 0.1414973347970818, 'give': 0.11139433523068368, ',': 0.037358066281259296, 'regret': 0.1414973347970818, 'year': 0.11139433523068368, 'decad': 0.1414973347970818, '?': 0.09378520932511555}, 'Only you can an': {'onli': 0.12388820889151367, 'answer': 0.1414973347970818, ',': 0.037358066281259296, 'carv': 0.17160033436347993, 'time': 0.12388820889151367, 'discov': 0.17160033436347993, 'motiv': 0.12388820889151367, 'pursu': 0.12388820889151367, 'goal': 0.11139433523068368, '.': 0.006279082985945545}, 'It’s a fact, if': {'’': 0.06093849535462789, 'fact': 0.040857222467495215, ',': 0.026684333058042353, 'know': 0.048430159014227626, 'want': 0.07956738230763119, 'get': 0.06737968323670561, 'life': 0.048430159014227626, 'hand': 0.08171444493499043, 'may': 0.033689841618352805, 'best': 0.033689841618352805, 'interest': 0.040857222467495215, 'affirm': 0.040857222467495215, 'author': 0.040857222467495215, 'larri': 0.040857222467495215, 'weidel': 0.040857222467495215, ':': 0.019355079920067988, '“': 0.024215079507113813, 'winner': 0.040857222467495215, 'figur': 0.040857222467495215, 'whatev': 0.040857222467495215, 'you.': 0.040857222467495215, '”': 0.024215079507113813, 'key': 0.040857222467495215, 'develop': 0.02232981174407513, 'power': 0.026522460769210398, 'vision': 0.029497192593217536, 'hold': 0.033689841618352805, 'imag': 0.040857222467495215, 'mind': 0.033689841618352805, '.': 0.0014950197585584628}, 'Nurture it dail': {'nurtur': 0.15721926088564644, 'daili': 0.15721926088564644, 'give': 0.12377148358964851, 'life': 0.11300370436653114, 'take': 0.15721926088564644, 'purpos': 0.19066703818164435, 'action': 0.13765356543501517, 'toward': 0.19066703818164435, '.': 0.006976758873272827}, 'Vision + desire': {'vision': 0.08849157777965261, '+': 0.4902866696099426, 'desir': 0.12257166740248565, 'dedic': 0.12257166740248565, 'patienc': 0.12257166740248565, 'daili': 0.10106952485505842, 'action': 0.08849157777965261, 'lead': 0.12257166740248565, 'astonish': 0.12257166740248565, 'success': 0.07264523852134144, '.': 0.004485059275675388}, 'I’m amused when': {'’': 0.03412555739859162, 'amus': 0.11440022290898662, 'read': 0.08259213926100911, 'question': 0.09433155653138786, 'written': 0.11440022290898662, 'millenni': 0.11440022290898662, 'quora': 0.11440022290898662, 'ask': 0.09433155653138786, 'becom': 0.09433155653138786, 'rich': 0.11440022290898662, 'famou': 0.11440022290898662, 'next': 0.09433155653138786, 'elon': 0.11440022290898662, 'musk': 0.11440022290898662, '.': 0.004186055323963696}, 'Success is a fi': {'success': 0.1452904770426829, 'fickl': 0.2451433348049713, 'long': 0.17698315555930522, 'game': 0.17698315555930522, 'high': 0.2451433348049713, 'low': 0.2451433348049713, '.': 0.008970118551350777}, 'Similarly, ther': {'similarli': 0.09533351909082217, ',': 0.06226344380209882, 'assur': 0.07860963044282322, 'even': 0.07860963044282322, '’': 0.0568759289976527, 'overnight': 0.09533351909082217, 'sensat': 0.09533351909082217, 'sustain': 0.09533351909082217, 'long': 0.06882678271750758, 'particularli': 0.09533351909082217, 'mental': 0.09533351909082217, 'emot': 0.09533351909082217, 'mean': 0.061885741794824256, 'endur': 0.07860963044282322, '.': 0.0034883794366364134}, 'This means you ': {'thi': 0.09282861269223638, 'mean': 0.09282861269223638, 'must': 0.11791444566423483, 'reli': 0.14300027863623327, 'one': 0.10324017407626138, 'true': 0.14300027863623327, 'constant': 0.14300027863623327, 'favour': 0.14300027863623327, ':': 0.06774277972023796, 'person': 0.09282861269223638, 'develop': 0.07815434110426295, '.': 0.00523256915495462}, 'The more you gr': {'grow': 0.10884410369006292, ',': 0.08621092218752145, 'gain': 0.10884410369006292, 'term': 0.13200025720267686, 'financi': 0.13200025720267686, 'resourc': 0.10884410369006292, 'statu': 0.13200025720267686, 'success': 0.07823333379221387, '—': 0.09529862222424128, 'simpl': 0.13200025720267686, '.': 0.004830063835342726}, 'If you leave it': {'leav': 0.12388820889151367, 'outsid': 0.1414973347970818, 'condit': 0.17160033436347993, 'dictat': 0.17160033436347993, 'circumst': 0.1414973347970818, ',': 0.037358066281259296, 'roll': 0.17160033436347993, 'dice': 0.17160033436347993, 'futur': 0.1414973347970818, '.': 0.006279082985945545}, 'So become inten': {'becom': 0.2829946695941636, 'intent': 0.34320066872695987, 'want': 0.22278867046136736, 'life': 0.20340666785975606, '.': 0.01255816597189109}, 'Commit to it.': {'commit': 0.707486673985409, '.': 0.03139541492972772}, 'Nurture your dr': {'nurtur': 0.4716577826569393, 'dream': 0.3126173644170518, '.': 0.02093027661981848}, 'Focus on your d': {'focu': 0.14300027863623327, 'develop': 0.07815434110426295, 'want': 0.09282861269223638, 'give': 0.09282861269223638, ',': 0.03113172190104941, 'know': 0.08475277827489835, '’': 0.04265694674823953, 'involv': 0.14300027863623327, 'befor': 0.11791444566423483, 'take': 0.11791444566423483, 'plung': 0.14300027863623327, '.': 0.00523256915495462}, 'Because I assur': {'becaus': 0.06520432046921772, 'assur': 0.07447228147214831, ',': 0.05898642044409362, 'someon': 0.09031596545446312, 'right': 0.05862859748983351, 'work': 0.07447228147214831, 'harder': 0.09031596545446312, 'read': 0.06520432046921772, 'book': 0.09031596545446312, 'sleep': 0.09031596545446312, 'less': 0.04936063648690292, 'sacrif': 0.09031596545446312, 'realis': 0.07447228147214831, 'dream': 0.04936063648690292, 'may': 0.07447228147214831, 'contest': 0.09031596545446312, '.': 0.0033047805189187073}, 'Don’t leave you': {'’': 0.10237667219577487, 'leav': 0.24777641778302734, 'dream': 0.1875704186502311, 'chanc': 0.34320066872695987, '.': 0.01255816597189109}}\n"
     ]
    }
   ],
   "source": [
    "def create_tf_idf_matrix(tf_matrix, idf_matrix):\n",
    "    tf_idf_matrix = {}\n",
    "    \n",
    "    for (sentence1, freq_table1), (sentence2, freq_table2) in zip(tf_matrix.items(), idf_matrix.items()):\n",
    "        \n",
    "        tf_idf_table = {}\n",
    "        \n",
    "        for (word1, value1), (word2, value2) in zip(freq_table1.items(), freq_table2.items()):\n",
    "            tf_idf_table[word1] = float(value1 * value2)\n",
    "            \n",
    "        tf_idf_matrix[sentence1] = tf_idf_table\n",
    "        \n",
    "    return tf_idf_matrix\n",
    "\n",
    "tf_idf_matrix = create_tf_idf_matrix(tf_matrix, idf_matrix)\n",
    "print(tf_idf_matrix)"
   ]
  },
  {
   "cell_type": "markdown",
   "metadata": {},
   "source": [
    "# Score each sentence"
   ]
  },
  {
   "cell_type": "code",
   "execution_count": 85,
   "metadata": {},
   "outputs": [
    {
     "name": "stdout",
     "output_type": "stream",
     "text": [
      "{'Those Who Are R': 0.04512750672425487, 'However, I real': 0.08590242763976694, 'Have you experi': 0.3239232585727256, 'To be honest, I': 0.16316926181026162, 'I can’t tell yo': 0.12383203821623005, 'However, it’s i': 0.07277387444980964, 'To a person wit': 0.07111516510658022, 'Same failure, y': 0.16444926737498997, 'Who is right an': 0.41864430991031015, 'Neither.': 0.4446985433735637, 'Each person has': 0.17094978895160579, 'Those who are r': 0.1420681030893123, 'I’ve coached ma': 0.10393055918383491, 'It was at that ': 0.2233540987973747, 'Perhaps all tho': 0.2149921544733752, 'It was the 19th': 0.03848143604355683, 'Consider the ad': 0.056951467901284525, 'Even more than ': 0.04201892102073854, 'Some of you rea': 0.13147637984349306, 'For others, at ': 0.13562338250422484, 'What I wish to ': 0.1371552634760773, 'If you settle f': 0.13757544687068993, '“Two people on ': 0.029089753809016194, 'Don’t leave it ': 0.1076945290795475, 'It must come fr': 0.28804630433974315, 'Gnaw away at yo': 0.18068695741527235, 'Problems are no': 0.1351017891332807, 'Most times, pro': 0.10594172815122352, 'So embrace your': 0.14126609680861046, 'Where are you s': 0.25536638275972207, 'Could you be yo': 0.30003341888505486, 'Are you willing': 0.13575702211980462, 'You should ask ': 0.11320429706877155, 'And that’s fine': 0.0985473540746418, 'If you have not': 0.11932249535494273, 'Only you can an': 0.11352823235879847, 'It’s a fact, if': 0.039527347226772126, 'Nurture it dail': 0.1371552634760773, 'Vision + desire': 0.13257527134852287, 'I’m amused when': 0.09422878409206725, 'Success is a fi': 0.1776652730182226, 'Similarly, ther': 0.07710025344752965, 'This means you ': 0.10189760519513281, 'The more you gr': 0.10173693472001957, 'If you leave it': 0.12784187000038838, 'So become inten': 0.2129897685228276, 'Commit to it.': 0.36944104445756837, 'Nurture your dr': 0.2684018078979365, 'Focus on your d': 0.0910346091504206, 'Because I assur': 0.06999027241061524, 'Don’t leave you': 0.17869646866557684}\n"
     ]
    }
   ],
   "source": [
    "def score_sentences(tf_idf_matrix) -> dict:\n",
    "    sentenceValue = {}\n",
    "    \n",
    "    for sentence, score_table in tf_idf_matrix.items():\n",
    "        total_score = 0\n",
    "        \n",
    "        diff_words_in_sentence = len(score_table)\n",
    "        # total_num_wrods_in_sentence = sum([freq_table[t] for t in freq_table])\n",
    "        \n",
    "        \n",
    "        for word, score in score_table.items():\n",
    "            total_score += score\n",
    "            \n",
    "        sentenceValue[sentence] = total_score / diff_words_in_sentence\n",
    "        \n",
    "    return sentenceValue;\n",
    "\n",
    "sentenceScores = score_sentences(tf_idf_matrix)\n",
    "print(sentenceScores)"
   ]
  },
  {
   "cell_type": "markdown",
   "metadata": {},
   "source": [
    "# Calculating threshold value used for choosing important sentences"
   ]
  },
  {
   "cell_type": "code",
   "execution_count": 86,
   "metadata": {},
   "outputs": [
    {
     "name": "stdout",
     "output_type": "stream",
     "text": [
      "0.15200159981023859\n"
     ]
    }
   ],
   "source": [
    "def find_average_score(sentenceScores) -> int:\n",
    "    sumScores = sum([sentenceScores[entry] for entry in sentenceScores])\n",
    "    average = (sumScores / len(sentenceScores))\n",
    "    \n",
    "    return average\n",
    "\n",
    "threshold = find_average_score(sentenceScores)        \n",
    "print(threshold)"
   ]
  },
  {
   "cell_type": "markdown",
   "metadata": {},
   "source": [
    "# Generate the summary"
   ]
  },
  {
   "cell_type": "code",
   "execution_count": 87,
   "metadata": {},
   "outputs": [
    {
     "name": "stdout",
     "output_type": "stream",
     "text": [
      " Have you experienced this before? To be honest, I don’t have the answers. Same failure, yet different responses. Who is right and who is wrong? Neither. Each person has a different mindset that decides their outcome. It was at that point their biggest breakthrough came. Perhaps all those years of perseverance finally paid off. It must come from within you. Gnaw away at your problems until you solve them or find a solution. Where are you settling in your life right now? Could you be you playing for bigger stakes than you are? Success is a fickle and long game with highs and lows. So become intentional on what you want out of life. Commit to it. Nurture your dreams. Don’t leave your dreams to chance.\n"
     ]
    }
   ],
   "source": [
    "def generate_summary(sentences, sentenceScores, threshold):\n",
    "    sentence_count = 0\n",
    "    summary = ''\n",
    "    \n",
    "    for sentence in sentences:\n",
    "        if sentence[:15] in sentenceScores and sentenceScores[sentence[:15]] >= (threshold):\n",
    "            summary += \" \" + sentence\n",
    "            sentence_count += 1\n",
    "            \n",
    "    return summary\n",
    "\n",
    "summary = generate_summary(text, sentenceScores, threshold)\n",
    "print(summary)"
   ]
  },
  {
   "cell_type": "markdown",
   "metadata": {},
   "source": [
    "# Test with dataset"
   ]
  },
  {
   "cell_type": "code",
   "execution_count": 93,
   "metadata": {},
   "outputs": [
    {
     "name": "stdout",
     "output_type": "stream",
     "text": [
      "Text:\n",
      "['For those who had academic writing, summarization — the task of producing a concise and fluent summary while preserving key information content and overall meaning — was if not a nightmare, then a constant challenge close to guesswork to detect what the professor would find important.', 'Though the basic idea looks simple: find the gist, cut off all opinions and detail, and write a couple of perfect sentences, the task inevitably ended up in toil and turmoil.', 'On the other hand, in real life we are perfect summarizers: we can describe the whole War and Peace in one word, be it “masterpiece” or “rubbish”.', 'We can read tons of news about state-of-the-art technologies and sum them up in “Musk sent Tesla to the Moon”.', 'We would expect that the computer could be even better.', 'Where humans are imperfect, artificial intelligence depraved of emotions and opinions of its own would do the job.', 'The story began in the 1950s.', 'An important research of these days introduced a method to extract salient sentences from the text using features such as word and phrase frequency.', 'In this work, Luhl proposed to weight the sentences of a document as a function of high frequency words, ignoring very high frequency common words –the approach that became the one of the pillars of NLP.', 'By now, the whole branch of natural language processing dedicated to summarization emerged, covering a variety of tasks: · headlines (from around the world); · outlines (notes for students); · minutes (of a meeting); · previews (of movies); · synopses (soap opera listings); · reviews (of a book, CD, movie, etc.', '); · digests (TV guide); · biography (resumes, obituaries); · abridgments (Shakespeare for children); · bulletins (weather forecasts/stock market reports); · sound bites (politicians on a current issue); · histories (chronologies of salient events).', 'The approaches to text summarization vary depending on the number of input documents (single or multiple), purpose (generic, domain specific, or query-based) and output (extractive or abstractive).', 'Extractive summarization means identifying important sections of the text and generating them verbatim producing a subset of the sentences from the original text; while abstractive summarization reproduces important material in a new way after interpretation and examination of the text using advanced natural language techniques to generate a new shorter text that conveys the most critical information from the original one.', 'Obviously, abstractive summarization is more advanced and closer to human-like interpretation.', 'Though it has more potential (and is generally more interesting for researchers and developers), so far the more traditional methods have proved to yield better results.', 'That is why in this blog post we’ll give a short overview of such traditional approaches that have beaten a path to advanced deep learning techniques.', 'By now, the core of all extractive summarizers is formed of three independent tasks: 1) Construction of an intermediate representation of the input text There are two types of representation-based approaches: topic representation and indicator representation.', 'Topic representation transforms the text into an intermediate representation and interpret the topic(s) discussed in the text.', 'The techniques used for this differ in terms of their complexity, and are divided into frequency-driven approaches, topic word approaches, latent semantic analysis and Bayesian topic models.', 'Indicator representation describes every sentence as a list of formal features (indicators) of importance such as sentence length, position in the document, having certain phrases, etc.'] \n",
      "\n",
      "Summary:\n",
      " We can read tons of news about state-of-the-art technologies and sum them up in “Musk sent Tesla to the Moon”. We would expect that the computer could be even better. Where humans are imperfect, artificial intelligence depraved of emotions and opinions of its own would do the job. The story began in the 1950s. Obviously, abstractive summarization is more advanced and closer to human-like interpretation. Written by Written by\n"
     ]
    }
   ],
   "source": [
    "# Get text from file\n",
    "with open(\"testarticle.txt\", \"r\", encoding=\"utf-8\") as file:\n",
    "    text = file.read()\n",
    "\n",
    "text = sent_tokenize(text)\n",
    "print(\"Text:\")\n",
    "print(text[:20], \"\\n\")\n",
    "total_documents = len(text)\n",
    "\n",
    "# Calculate Frequency Matrix\n",
    "freq_matrix = create_frequency_matrix(text)\n",
    "# print(\"Frequency Matrix:\")\n",
    "# print(list(freq_matrix)[:5], \"\\n\")\n",
    "\n",
    "# Create Term Frequency Matrix\n",
    "tf_matrix = create_tf_matrix(freq_matrix)\n",
    "# print(\"Term Frequency Matrix:\")\n",
    "# print(list(tf_matrix)[:5], \"\\n\")\n",
    "\n",
    "# Create Document counts per word Matrix\n",
    "doc_per_word = create_documents_per_words(freq_matrix)\n",
    "# print(\"Number of documents each word appear in:\")\n",
    "# print(list(doc_per_word)[:5], \"\\n\")\n",
    "\n",
    "# Create Inverse Document Frequency Matrix\n",
    "idf_matrix = create_idf_matrix(freq_matrix, doc_per_word, total_documents)\n",
    "# print(\"IDF Matrix:\")\n",
    "# print(list(idf_matrix)[:5], \"\\n\")\n",
    "\n",
    "# Create TF-IDF matrix\n",
    "tf_idf_matrix = create_tf_idf_matrix(tf_matrix, idf_matrix)\n",
    "# print(\"TF-IDF Matrix:\")\n",
    "# print(list(tf_idf_matrix)[:5], \"\\n\")\n",
    "\n",
    "# Score each sentence\n",
    "sentenceScores = score_sentences(tf_idf_matrix)\n",
    "# print(\"Scores of each sentence:\")\n",
    "# print(list(sentenceScores)[:5], \"\\n\")\n",
    "\n",
    "# Calculate the threshold to select important sentences for summary\n",
    "threshold = find_average_score(sentenceScores)\n",
    "# print(\"threshold:\")\n",
    "# print(threshold, \"\\n\")\n",
    "\n",
    "# Generate the summary\n",
    "summary = generate_summary(text, sentenceScores, threshold)\n",
    "print(\"Summary:\")\n",
    "print(summary)"
   ]
  },
  {
   "cell_type": "code",
   "execution_count": null,
   "metadata": {},
   "outputs": [],
   "source": []
  }
 ],
 "metadata": {
  "kernelspec": {
   "display_name": "Python 3",
   "language": "python",
   "name": "python3"
  },
  "language_info": {
   "codemirror_mode": {
    "name": "ipython",
    "version": 3
   },
   "file_extension": ".py",
   "mimetype": "text/x-python",
   "name": "python",
   "nbconvert_exporter": "python",
   "pygments_lexer": "ipython3",
   "version": "3.8.5"
  }
 },
 "nbformat": 4,
 "nbformat_minor": 4
}
